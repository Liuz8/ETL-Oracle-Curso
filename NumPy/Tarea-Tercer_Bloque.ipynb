{
 "cells": [
  {
   "cell_type": "markdown",
   "id": "52fad9f9",
   "metadata": {},
   "source": [
    "Ha llegado el momento de poner a prueba los conocimientos adquiridos durante la lección. Continuando con el proyecto de las naranjas/toronjas, ahora debes calcular el coeficiente angular y lineal para la recta de las naranjas y para la recta de las toronjas. Utiliza la fórmula de mínimos cuadrados para encontrar cada uno."
   ]
  },
  {
   "cell_type": "code",
   "execution_count": 1,
   "id": "cd09d766",
   "metadata": {},
   "outputs": [
    {
     "data": {
      "text/plain": [
       "array([[  2.96,  86.76, 172.  ,  85.  ,   2.  ],\n",
       "       [  3.91,  88.05, 166.  ,  78.  ,   3.  ],\n",
       "       [  4.42,  95.17, 156.  ,  81.  ,   2.  ],\n",
       "       ...,\n",
       "       [ 15.59, 256.5 , 168.  ,  82.  ,  20.  ],\n",
       "       [ 15.92, 260.14, 142.  ,  72.  ,  11.  ],\n",
       "       [ 16.45, 261.51, 152.  ,  74.  ,   2.  ]], shape=(10000, 5))"
      ]
     },
     "execution_count": 1,
     "metadata": {},
     "output_type": "execute_result"
    }
   ],
   "source": [
    "import numpy as np\n",
    "url = 'citrus.csv'\n",
    "datos = np.loadtxt(url, delimiter=',', skiprows=1, dtype=float, usecols=range(1,6))\n",
    "datos"
   ]
  },
  {
   "cell_type": "code",
   "execution_count": 3,
   "id": "17395588",
   "metadata": {},
   "outputs": [],
   "source": [
    "diametro = datos[:,0]\n",
    "diametro_naranjas = diametro[:5000]\n",
    "diametro_toronjas = diametro[5000:]\n",
    "peso = datos[:,1]\n",
    "peso_naranjas = peso[:5000]\n",
    "peso_toronjas = peso[5000:]"
   ]
  },
  {
   "cell_type": "code",
   "execution_count": 4,
   "id": "89b0d10f",
   "metadata": {},
   "outputs": [],
   "source": [
    "Y = peso_naranjas\n",
    "X = diametro_naranjas\n",
    "n = np.size(X)\n",
    "\n",
    "a = (n*np.sum(X*Y) - np.sum(X)*np.sum(Y))/(n*np.sum(X**2)-np.sum(X)**2)\n",
    "b = np.mean(Y) - a*np.mean(X)"
   ]
  },
  {
   "cell_type": "code",
   "execution_count": 6,
   "id": "8191c775",
   "metadata": {},
   "outputs": [
    {
     "data": {
      "text/plain": [
       "np.float64(27.38560381218413)"
      ]
     },
     "execution_count": 6,
     "metadata": {},
     "output_type": "execute_result"
    }
   ],
   "source": [
    "a\n",
    "b"
   ]
  },
  {
   "cell_type": "code",
   "execution_count": 7,
   "id": "4157e5fd",
   "metadata": {},
   "outputs": [],
   "source": [
    "Y = peso_toronjas\n",
    "X = diametro_toronjas\n",
    "n = np.size(X)\n",
    "\n",
    "a = (n*np.sum(X*Y) - np.sum(X)*np.sum(Y))/(n*np.sum(X**2)-np.sum(X)**2)\n",
    "b = np.mean(Y) - a*np.mean(X)"
   ]
  },
  {
   "cell_type": "code",
   "execution_count": 8,
   "id": "f1d0ea60",
   "metadata": {},
   "outputs": [
    {
     "data": {
      "text/plain": [
       "np.float64(17.007102876817726)"
      ]
     },
     "execution_count": 8,
     "metadata": {},
     "output_type": "execute_result"
    }
   ],
   "source": [
    "a\n",
    "b"
   ]
  }
 ],
 "metadata": {
  "kernelspec": {
   "display_name": "Python 3",
   "language": "python",
   "name": "python3"
  },
  "language_info": {
   "codemirror_mode": {
    "name": "ipython",
    "version": 3
   },
   "file_extension": ".py",
   "mimetype": "text/x-python",
   "name": "python",
   "nbconvert_exporter": "python",
   "pygments_lexer": "ipython3",
   "version": "3.11.9"
  }
 },
 "nbformat": 4,
 "nbformat_minor": 5
}
