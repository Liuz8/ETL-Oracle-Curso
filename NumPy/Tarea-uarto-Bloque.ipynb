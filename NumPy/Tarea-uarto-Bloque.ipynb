{
 "cells": [
  {
   "cell_type": "markdown",
   "id": "850157a4",
   "metadata": {},
   "source": [
    "Ha llegado el momento de poner a prueba los conocimientos adquiridos durante la lección. Continuando con el proyecto de las naranjas/toronjas, ahora debes calcular el coeficiente angular utilizando la generación de números aleatorios. Supongamos que ya conoces el valor de b y que este es igual a 17."
   ]
  },
  {
   "cell_type": "code",
   "execution_count": 1,
   "id": "9f4a244a",
   "metadata": {},
   "outputs": [
    {
     "data": {
      "text/plain": [
       "array([[  2.96,  86.76, 172.  ,  85.  ,   2.  ],\n",
       "       [  3.91,  88.05, 166.  ,  78.  ,   3.  ],\n",
       "       [  4.42,  95.17, 156.  ,  81.  ,   2.  ],\n",
       "       ...,\n",
       "       [ 15.59, 256.5 , 168.  ,  82.  ,  20.  ],\n",
       "       [ 15.92, 260.14, 142.  ,  72.  ,  11.  ],\n",
       "       [ 16.45, 261.51, 152.  ,  74.  ,   2.  ]], shape=(10000, 5))"
      ]
     },
     "execution_count": 1,
     "metadata": {},
     "output_type": "execute_result"
    }
   ],
   "source": [
    "import numpy as np\n",
    "url = 'citrus.csv'\n",
    "datos = np.loadtxt(url, delimiter=',', skiprows=1, dtype=float, usecols=range(1,6))\n",
    "datos"
   ]
  },
  {
   "cell_type": "code",
   "execution_count": 2,
   "id": "b8754a65",
   "metadata": {},
   "outputs": [],
   "source": [
    "diametro = datos[:, 0]\n",
    "peso = datos[:, 1]"
   ]
  },
  {
   "cell_type": "code",
   "execution_count": 3,
   "id": "8c8c3fba",
   "metadata": {},
   "outputs": [],
   "source": [
    "import numpy as np\n",
    "\n",
    "np.random.seed(42)  # Para resultados reproducibles\n",
    "indices = np.random.choice(len(diametro), size=100, replace=False)\n",
    "\n",
    "x = diametro[indices]\n",
    "y = peso[indices]\n"
   ]
  },
  {
   "cell_type": "code",
   "execution_count": 5,
   "id": "98268024",
   "metadata": {},
   "outputs": [
    {
     "name": "stdout",
     "output_type": "stream",
     "text": [
      "Coeficiente angular (m): 15.815155807881007\n"
     ]
    }
   ],
   "source": [
    "x = diametro[indices]\n",
    "y = peso[indices]\n",
    "\n",
    "# Valor conocido de b\n",
    "b = 17\n",
    "\n",
    "# Cálculo de m usando mínimos cuadrados modificados\n",
    "numerador = np.sum(x * (y - b))\n",
    "denominador = np.sum(x**2)\n",
    "m = numerador / denominador\n",
    "\n",
    "print(\"Coeficiente angular (m):\", m)"
   ]
  },
  {
   "cell_type": "code",
   "execution_count": 8,
   "id": "c1287858",
   "metadata": {},
   "outputs": [],
   "source": [
    "norma = np.array([])\n",
    "np.random.seed(84)\n",
    "coeficientes_angulares = np.random.uniform(low=0.0, high=30.0, size=100)\n",
    "\n",
    "for i in range(100):\n",
    "  norma = np.append(norma, np.linalg.norm(y - (coeficientes_angulares[i]*y + b)))"
   ]
  },
  {
   "cell_type": "code",
   "execution_count": null,
   "id": "43d5443b",
   "metadata": {},
   "outputs": [],
   "source": [
    "norma"
   ]
  }
 ],
 "metadata": {
  "kernelspec": {
   "display_name": "Python 3",
   "language": "python",
   "name": "python3"
  },
  "language_info": {
   "codemirror_mode": {
    "name": "ipython",
    "version": 3
   },
   "file_extension": ".py",
   "mimetype": "text/x-python",
   "name": "python",
   "nbconvert_exporter": "python",
   "pygments_lexer": "ipython3",
   "version": "3.11.9"
  }
 },
 "nbformat": 4,
 "nbformat_minor": 5
}
