{
 "cells": [
  {
   "cell_type": "markdown",
   "id": "850157a4",
   "metadata": {},
   "source": [
    "Ha llegado el momento de poner a prueba los conocimientos adquiridos durante la lección. Continuando con el proyecto de las naranjas/toronjas, ahora debes calcular el coeficiente angular utilizando la generación de números aleatorios. Supongamos que ya conoces el valor de b y que este es igual a 17."
   ]
  },
  {
   "cell_type": "code",
   "execution_count": 1,
   "id": "9f4a244a",
   "metadata": {},
   "outputs": [
    {
     "data": {
      "text/plain": [
       "array([[  2.96,  86.76, 172.  ,  85.  ,   2.  ],\n",
       "       [  3.91,  88.05, 166.  ,  78.  ,   3.  ],\n",
       "       [  4.42,  95.17, 156.  ,  81.  ,   2.  ],\n",
       "       ...,\n",
       "       [ 15.59, 256.5 , 168.  ,  82.  ,  20.  ],\n",
       "       [ 15.92, 260.14, 142.  ,  72.  ,  11.  ],\n",
       "       [ 16.45, 261.51, 152.  ,  74.  ,   2.  ]], shape=(10000, 5))"
      ]
     },
     "execution_count": 1,
     "metadata": {},
     "output_type": "execute_result"
    }
   ],
   "source": [
    "import numpy as np\n",
    "url = 'citrus.csv'\n",
    "datos = np.loadtxt(url, delimiter=',', skiprows=1, dtype=float, usecols=range(1,6))\n",
    "datos"
   ]
  },
  {
   "cell_type": "code",
   "execution_count": 2,
   "id": "b8754a65",
   "metadata": {},
   "outputs": [],
   "source": [
    "diametro = datos[:, 0]\n",
    "peso = datos[:, 1]"
   ]
  },
  {
   "cell_type": "code",
   "execution_count": 3,
   "id": "8c8c3fba",
   "metadata": {},
   "outputs": [],
   "source": [
    "import numpy as np\n",
    "\n",
    "np.random.seed(42)  # Para resultados reproducibles\n",
    "indices = np.random.choice(len(diametro), size=100, replace=False)\n",
    "\n",
    "x = diametro[indices]\n",
    "y = peso[indices]\n"
   ]
  },
  {
   "cell_type": "code",
   "execution_count": 5,
   "id": "98268024",
   "metadata": {},
   "outputs": [
    {
     "name": "stdout",
     "output_type": "stream",
     "text": [
      "Coeficiente angular (m): 15.815155807881007\n"
     ]
    }
   ],
   "source": [
    "x = diametro[indices]\n",
    "y = peso[indices]\n",
    "\n",
    "# Valor conocido de b\n",
    "b = 17\n",
    "\n",
    "# Cálculo de m usando mínimos cuadrados modificados\n",
    "numerador = np.sum(x * (y - b))\n",
    "denominador = np.sum(x**2)\n",
    "m = numerador / denominador\n",
    "\n",
    "print(\"Coeficiente angular (m):\", m)"
   ]
  },
  {
   "cell_type": "code",
   "execution_count": 8,
   "id": "c1287858",
   "metadata": {},
   "outputs": [],
   "source": [
    "norma = np.array([])\n",
    "np.random.seed(84)\n",
    "coeficientes_angulares = np.random.uniform(low=0.0, high=30.0, size=100)\n",
    "\n",
    "for i in range(100):\n",
    "  norma = np.append(norma, np.linalg.norm(y - (coeficientes_angulares[i]*y + b)))"
   ]
  },
  {
   "cell_type": "code",
   "execution_count": 9,
   "id": "e9ecf074",
   "metadata": {},
   "outputs": [
    {
     "data": {
      "text/plain": [
       "array([  847.8983819 , 18192.11997923, 11348.23060758, 32007.7588192 ,\n",
       "       51354.86706046,  5370.73370606,  7671.25899041, 12203.99863662,\n",
       "       20768.48534085,  5393.7834195 , 13923.26565841, 24882.99323718,\n",
       "       50118.71593489, 14294.53903657, 33255.47554927, 27039.3952965 ,\n",
       "       45839.91822672, 44640.01922202, 48702.49832686,  4046.3776206 ,\n",
       "       31191.47698711,  7938.8440168 ,  2352.85909498, 51666.37884614,\n",
       "       17444.81849418, 43295.90499566, 32520.89657335,  9599.0955388 ,\n",
       "       50729.82333805,  5789.27341774, 27981.53651726, 12654.48237939,\n",
       "       15059.68784754, 16092.5807233 ,  6186.21409637, 42294.64065616,\n",
       "        7004.03033912, 25045.48652646, 16094.3521112 ,  8808.28739415,\n",
       "        6212.78330368, 35123.90271525, 51596.09959259, 13618.68980848,\n",
       "       28675.36491984,  4820.73834064,   704.72253147,  6829.32934777,\n",
       "       21550.40065532, 18565.17938553,  1603.90783278, 31812.88414375,\n",
       "       24481.24020823, 20410.95528034, 22541.24503691, 27948.70572152,\n",
       "       48396.82990397, 12530.34411736,   670.54608883, 35749.13644256,\n",
       "       41576.86743304, 32749.41555594, 26605.57520519, 42915.47156976,\n",
       "       17168.51174964,  8525.88351488,   691.64916282, 50852.76661012,\n",
       "       41773.80853538, 49786.53361052,   935.10307071, 13530.83959575,\n",
       "       10545.81501857,  1469.87811391, 17053.58700251, 21914.23016472,\n",
       "        8096.10950966, 25552.83442399, 13514.11021257, 49318.52445814,\n",
       "       23788.72525385, 12296.29889154, 14916.3364773 ,   472.85269618,\n",
       "       13507.64613981, 12183.69100271, 49098.66380339, 37060.92682347,\n",
       "       42738.2005286 , 29064.12639513,  4980.08547227, 29370.75907602,\n",
       "       27499.52446373, 24207.71314792, 30786.06694883, 27204.33586702,\n",
       "       21823.08826333, 36579.25700425, 15378.84175722, 15705.93053214])"
      ]
     },
     "execution_count": 9,
     "metadata": {},
     "output_type": "execute_result"
    }
   ],
   "source": [
    "norma"
   ]
  },
  {
   "cell_type": "code",
   "execution_count": null,
   "id": "43d5443b",
   "metadata": {},
   "outputs": [],
   "source": []
  }
 ],
 "metadata": {
  "kernelspec": {
   "display_name": "Python 3",
   "language": "python",
   "name": "python3"
  },
  "language_info": {
   "codemirror_mode": {
    "name": "ipython",
    "version": 3
   },
   "file_extension": ".py",
   "mimetype": "text/x-python",
   "name": "python",
   "nbconvert_exporter": "python",
   "pygments_lexer": "ipython3",
   "version": "3.11.9"
  }
 },
 "nbformat": 4,
 "nbformat_minor": 5
}
