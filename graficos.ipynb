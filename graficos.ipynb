{
 "cells": [
  {
   "cell_type": "markdown",
   "id": "001681a8",
   "metadata": {},
   "source": [
    "# Bloque 1 - Matplotlib"
   ]
  },
  {
   "cell_type": "code",
   "execution_count": 1,
   "id": "bd487d45",
   "metadata": {},
   "outputs": [],
   "source": [
    "import pandas as pd"
   ]
  },
  {
   "cell_type": "code",
   "execution_count": 2,
   "id": "31b73bee",
   "metadata": {},
   "outputs": [
    {
     "data": {
      "text/html": [
       "<div>\n",
       "<style scoped>\n",
       "    .dataframe tbody tr th:only-of-type {\n",
       "        vertical-align: middle;\n",
       "    }\n",
       "\n",
       "    .dataframe tbody tr th {\n",
       "        vertical-align: top;\n",
       "    }\n",
       "\n",
       "    .dataframe thead th {\n",
       "        text-align: right;\n",
       "    }\n",
       "</style>\n",
       "<table border=\"1\" class=\"dataframe\">\n",
       "  <thead>\n",
       "    <tr style=\"text-align: right;\">\n",
       "      <th></th>\n",
       "      <th>Pais</th>\n",
       "      <th>Continente</th>\n",
       "      <th>Region</th>\n",
       "      <th>1980</th>\n",
       "      <th>1981</th>\n",
       "      <th>1982</th>\n",
       "      <th>1983</th>\n",
       "      <th>1984</th>\n",
       "      <th>1985</th>\n",
       "      <th>1986</th>\n",
       "      <th>...</th>\n",
       "      <th>2005</th>\n",
       "      <th>2006</th>\n",
       "      <th>2007</th>\n",
       "      <th>2008</th>\n",
       "      <th>2009</th>\n",
       "      <th>2010</th>\n",
       "      <th>2011</th>\n",
       "      <th>2012</th>\n",
       "      <th>2013</th>\n",
       "      <th>Total</th>\n",
       "    </tr>\n",
       "  </thead>\n",
       "  <tbody>\n",
       "    <tr>\n",
       "      <th>0</th>\n",
       "      <td>Afganistán</td>\n",
       "      <td>Asia</td>\n",
       "      <td>Sur de Asia</td>\n",
       "      <td>16</td>\n",
       "      <td>39</td>\n",
       "      <td>39</td>\n",
       "      <td>47</td>\n",
       "      <td>71</td>\n",
       "      <td>340</td>\n",
       "      <td>496</td>\n",
       "      <td>...</td>\n",
       "      <td>3436</td>\n",
       "      <td>3009</td>\n",
       "      <td>2652</td>\n",
       "      <td>2111</td>\n",
       "      <td>1746</td>\n",
       "      <td>1758</td>\n",
       "      <td>2203</td>\n",
       "      <td>2635</td>\n",
       "      <td>2004</td>\n",
       "      <td>58639</td>\n",
       "    </tr>\n",
       "    <tr>\n",
       "      <th>1</th>\n",
       "      <td>Albania</td>\n",
       "      <td>Europa</td>\n",
       "      <td>Sur de Europa</td>\n",
       "      <td>1</td>\n",
       "      <td>0</td>\n",
       "      <td>0</td>\n",
       "      <td>0</td>\n",
       "      <td>0</td>\n",
       "      <td>0</td>\n",
       "      <td>1</td>\n",
       "      <td>...</td>\n",
       "      <td>1223</td>\n",
       "      <td>856</td>\n",
       "      <td>702</td>\n",
       "      <td>560</td>\n",
       "      <td>716</td>\n",
       "      <td>561</td>\n",
       "      <td>539</td>\n",
       "      <td>620</td>\n",
       "      <td>603</td>\n",
       "      <td>15699</td>\n",
       "    </tr>\n",
       "    <tr>\n",
       "      <th>2</th>\n",
       "      <td>Argelia</td>\n",
       "      <td>África</td>\n",
       "      <td>Norte de África</td>\n",
       "      <td>80</td>\n",
       "      <td>67</td>\n",
       "      <td>71</td>\n",
       "      <td>69</td>\n",
       "      <td>63</td>\n",
       "      <td>44</td>\n",
       "      <td>69</td>\n",
       "      <td>...</td>\n",
       "      <td>3626</td>\n",
       "      <td>4807</td>\n",
       "      <td>3623</td>\n",
       "      <td>4005</td>\n",
       "      <td>5393</td>\n",
       "      <td>4752</td>\n",
       "      <td>4325</td>\n",
       "      <td>3774</td>\n",
       "      <td>4331</td>\n",
       "      <td>69439</td>\n",
       "    </tr>\n",
       "    <tr>\n",
       "      <th>3</th>\n",
       "      <td>Samoa Americana</td>\n",
       "      <td>Oceanía</td>\n",
       "      <td>Polinesia</td>\n",
       "      <td>0</td>\n",
       "      <td>1</td>\n",
       "      <td>0</td>\n",
       "      <td>0</td>\n",
       "      <td>0</td>\n",
       "      <td>0</td>\n",
       "      <td>0</td>\n",
       "      <td>...</td>\n",
       "      <td>0</td>\n",
       "      <td>1</td>\n",
       "      <td>0</td>\n",
       "      <td>0</td>\n",
       "      <td>0</td>\n",
       "      <td>0</td>\n",
       "      <td>0</td>\n",
       "      <td>0</td>\n",
       "      <td>0</td>\n",
       "      <td>6</td>\n",
       "    </tr>\n",
       "    <tr>\n",
       "      <th>4</th>\n",
       "      <td>Andorra</td>\n",
       "      <td>Europa</td>\n",
       "      <td>Sur de Europa</td>\n",
       "      <td>0</td>\n",
       "      <td>0</td>\n",
       "      <td>0</td>\n",
       "      <td>0</td>\n",
       "      <td>0</td>\n",
       "      <td>0</td>\n",
       "      <td>2</td>\n",
       "      <td>...</td>\n",
       "      <td>0</td>\n",
       "      <td>1</td>\n",
       "      <td>1</td>\n",
       "      <td>0</td>\n",
       "      <td>0</td>\n",
       "      <td>0</td>\n",
       "      <td>0</td>\n",
       "      <td>1</td>\n",
       "      <td>1</td>\n",
       "      <td>15</td>\n",
       "    </tr>\n",
       "  </tbody>\n",
       "</table>\n",
       "<p>5 rows × 38 columns</p>\n",
       "</div>"
      ],
      "text/plain": [
       "              Pais Continente           Region  1980  1981  1982  1983  1984  \\\n",
       "0       Afganistán       Asia      Sur de Asia    16    39    39    47    71   \n",
       "1          Albania     Europa    Sur de Europa     1     0     0     0     0   \n",
       "2          Argelia     África  Norte de África    80    67    71    69    63   \n",
       "3  Samoa Americana    Oceanía        Polinesia     0     1     0     0     0   \n",
       "4          Andorra     Europa    Sur de Europa     0     0     0     0     0   \n",
       "\n",
       "   1985  1986  ...  2005  2006  2007  2008  2009  2010  2011  2012  2013  \\\n",
       "0   340   496  ...  3436  3009  2652  2111  1746  1758  2203  2635  2004   \n",
       "1     0     1  ...  1223   856   702   560   716   561   539   620   603   \n",
       "2    44    69  ...  3626  4807  3623  4005  5393  4752  4325  3774  4331   \n",
       "3     0     0  ...     0     1     0     0     0     0     0     0     0   \n",
       "4     0     2  ...     0     1     1     0     0     0     0     1     1   \n",
       "\n",
       "   Total  \n",
       "0  58639  \n",
       "1  15699  \n",
       "2  69439  \n",
       "3      6  \n",
       "4     15  \n",
       "\n",
       "[5 rows x 38 columns]"
      ]
     },
     "execution_count": 2,
     "metadata": {},
     "output_type": "execute_result"
    }
   ],
   "source": [
    "df = pd.read_csv('inmigrantes_canada.csv')\n",
    "df.head()"
   ]
  },
  {
   "cell_type": "code",
   "execution_count": 3,
   "id": "db2df490",
   "metadata": {},
   "outputs": [
    {
     "data": {
      "text/plain": [
       "(195, 38)"
      ]
     },
     "execution_count": 3,
     "metadata": {},
     "output_type": "execute_result"
    }
   ],
   "source": [
    "df.shape"
   ]
  },
  {
   "cell_type": "code",
   "execution_count": 4,
   "id": "4c22331e",
   "metadata": {},
   "outputs": [
    {
     "name": "stdout",
     "output_type": "stream",
     "text": [
      "<class 'pandas.core.frame.DataFrame'>\n",
      "RangeIndex: 195 entries, 0 to 194\n",
      "Data columns (total 38 columns):\n",
      " #   Column      Non-Null Count  Dtype \n",
      "---  ------      --------------  ----- \n",
      " 0   Pais        195 non-null    object\n",
      " 1   Continente  195 non-null    object\n",
      " 2   Region      195 non-null    object\n",
      " 3   1980        195 non-null    int64 \n",
      " 4   1981        195 non-null    int64 \n",
      " 5   1982        195 non-null    int64 \n",
      " 6   1983        195 non-null    int64 \n",
      " 7   1984        195 non-null    int64 \n",
      " 8   1985        195 non-null    int64 \n",
      " 9   1986        195 non-null    int64 \n",
      " 10  1987        195 non-null    int64 \n",
      " 11  1988        195 non-null    int64 \n",
      " 12  1989        195 non-null    int64 \n",
      " 13  1990        195 non-null    int64 \n",
      " 14  1991        195 non-null    int64 \n",
      " 15  1992        195 non-null    int64 \n",
      " 16  1993        195 non-null    int64 \n",
      " 17  1994        195 non-null    int64 \n",
      " 18  1995        195 non-null    int64 \n",
      " 19  1996        195 non-null    int64 \n",
      " 20  1997        195 non-null    int64 \n",
      " 21  1998        195 non-null    int64 \n",
      " 22  1999        195 non-null    int64 \n",
      " 23  2000        195 non-null    int64 \n",
      " 24  2001        195 non-null    int64 \n",
      " 25  2002        195 non-null    int64 \n",
      " 26  2003        195 non-null    int64 \n",
      " 27  2004        195 non-null    int64 \n",
      " 28  2005        195 non-null    int64 \n",
      " 29  2006        195 non-null    int64 \n",
      " 30  2007        195 non-null    int64 \n",
      " 31  2008        195 non-null    int64 \n",
      " 32  2009        195 non-null    int64 \n",
      " 33  2010        195 non-null    int64 \n",
      " 34  2011        195 non-null    int64 \n",
      " 35  2012        195 non-null    int64 \n",
      " 36  2013        195 non-null    int64 \n",
      " 37  Total       195 non-null    int64 \n",
      "dtypes: int64(35), object(3)\n",
      "memory usage: 58.0+ KB\n"
     ]
    }
   ],
   "source": [
    "df.info()"
   ]
  },
  {
   "cell_type": "markdown",
   "id": "1c6f9c02",
   "metadata": {},
   "source": [
    "## Crear un data frame con datos: Año e Inmigrantes de colombia"
   ]
  },
  {
   "cell_type": "markdown",
   "id": "0cc590b0",
   "metadata": {},
   "source": [
    "### Cambiar de indice"
   ]
  },
  {
   "cell_type": "code",
   "execution_count": 5,
   "id": "36a548a7",
   "metadata": {},
   "outputs": [],
   "source": [
    "# se usa el metodo set_index() para cambiar el indice con la columna Pais\n",
    "df.set_index('Pais', inplace=True)"
   ]
  },
  {
   "cell_type": "code",
   "execution_count": 6,
   "id": "046b1120",
   "metadata": {},
   "outputs": [
    {
     "data": {
      "text/html": [
       "<div>\n",
       "<style scoped>\n",
       "    .dataframe tbody tr th:only-of-type {\n",
       "        vertical-align: middle;\n",
       "    }\n",
       "\n",
       "    .dataframe tbody tr th {\n",
       "        vertical-align: top;\n",
       "    }\n",
       "\n",
       "    .dataframe thead th {\n",
       "        text-align: right;\n",
       "    }\n",
       "</style>\n",
       "<table border=\"1\" class=\"dataframe\">\n",
       "  <thead>\n",
       "    <tr style=\"text-align: right;\">\n",
       "      <th></th>\n",
       "      <th>Continente</th>\n",
       "      <th>Region</th>\n",
       "      <th>1980</th>\n",
       "      <th>1981</th>\n",
       "      <th>1982</th>\n",
       "      <th>1983</th>\n",
       "      <th>1984</th>\n",
       "      <th>1985</th>\n",
       "      <th>1986</th>\n",
       "      <th>1987</th>\n",
       "      <th>...</th>\n",
       "      <th>2005</th>\n",
       "      <th>2006</th>\n",
       "      <th>2007</th>\n",
       "      <th>2008</th>\n",
       "      <th>2009</th>\n",
       "      <th>2010</th>\n",
       "      <th>2011</th>\n",
       "      <th>2012</th>\n",
       "      <th>2013</th>\n",
       "      <th>Total</th>\n",
       "    </tr>\n",
       "    <tr>\n",
       "      <th>Pais</th>\n",
       "      <th></th>\n",
       "      <th></th>\n",
       "      <th></th>\n",
       "      <th></th>\n",
       "      <th></th>\n",
       "      <th></th>\n",
       "      <th></th>\n",
       "      <th></th>\n",
       "      <th></th>\n",
       "      <th></th>\n",
       "      <th></th>\n",
       "      <th></th>\n",
       "      <th></th>\n",
       "      <th></th>\n",
       "      <th></th>\n",
       "      <th></th>\n",
       "      <th></th>\n",
       "      <th></th>\n",
       "      <th></th>\n",
       "      <th></th>\n",
       "      <th></th>\n",
       "    </tr>\n",
       "  </thead>\n",
       "  <tbody>\n",
       "    <tr>\n",
       "      <th>Afganistán</th>\n",
       "      <td>Asia</td>\n",
       "      <td>Sur de Asia</td>\n",
       "      <td>16</td>\n",
       "      <td>39</td>\n",
       "      <td>39</td>\n",
       "      <td>47</td>\n",
       "      <td>71</td>\n",
       "      <td>340</td>\n",
       "      <td>496</td>\n",
       "      <td>741</td>\n",
       "      <td>...</td>\n",
       "      <td>3436</td>\n",
       "      <td>3009</td>\n",
       "      <td>2652</td>\n",
       "      <td>2111</td>\n",
       "      <td>1746</td>\n",
       "      <td>1758</td>\n",
       "      <td>2203</td>\n",
       "      <td>2635</td>\n",
       "      <td>2004</td>\n",
       "      <td>58639</td>\n",
       "    </tr>\n",
       "    <tr>\n",
       "      <th>Albania</th>\n",
       "      <td>Europa</td>\n",
       "      <td>Sur de Europa</td>\n",
       "      <td>1</td>\n",
       "      <td>0</td>\n",
       "      <td>0</td>\n",
       "      <td>0</td>\n",
       "      <td>0</td>\n",
       "      <td>0</td>\n",
       "      <td>1</td>\n",
       "      <td>2</td>\n",
       "      <td>...</td>\n",
       "      <td>1223</td>\n",
       "      <td>856</td>\n",
       "      <td>702</td>\n",
       "      <td>560</td>\n",
       "      <td>716</td>\n",
       "      <td>561</td>\n",
       "      <td>539</td>\n",
       "      <td>620</td>\n",
       "      <td>603</td>\n",
       "      <td>15699</td>\n",
       "    </tr>\n",
       "    <tr>\n",
       "      <th>Argelia</th>\n",
       "      <td>África</td>\n",
       "      <td>Norte de África</td>\n",
       "      <td>80</td>\n",
       "      <td>67</td>\n",
       "      <td>71</td>\n",
       "      <td>69</td>\n",
       "      <td>63</td>\n",
       "      <td>44</td>\n",
       "      <td>69</td>\n",
       "      <td>132</td>\n",
       "      <td>...</td>\n",
       "      <td>3626</td>\n",
       "      <td>4807</td>\n",
       "      <td>3623</td>\n",
       "      <td>4005</td>\n",
       "      <td>5393</td>\n",
       "      <td>4752</td>\n",
       "      <td>4325</td>\n",
       "      <td>3774</td>\n",
       "      <td>4331</td>\n",
       "      <td>69439</td>\n",
       "    </tr>\n",
       "    <tr>\n",
       "      <th>Samoa Americana</th>\n",
       "      <td>Oceanía</td>\n",
       "      <td>Polinesia</td>\n",
       "      <td>0</td>\n",
       "      <td>1</td>\n",
       "      <td>0</td>\n",
       "      <td>0</td>\n",
       "      <td>0</td>\n",
       "      <td>0</td>\n",
       "      <td>0</td>\n",
       "      <td>1</td>\n",
       "      <td>...</td>\n",
       "      <td>0</td>\n",
       "      <td>1</td>\n",
       "      <td>0</td>\n",
       "      <td>0</td>\n",
       "      <td>0</td>\n",
       "      <td>0</td>\n",
       "      <td>0</td>\n",
       "      <td>0</td>\n",
       "      <td>0</td>\n",
       "      <td>6</td>\n",
       "    </tr>\n",
       "    <tr>\n",
       "      <th>Andorra</th>\n",
       "      <td>Europa</td>\n",
       "      <td>Sur de Europa</td>\n",
       "      <td>0</td>\n",
       "      <td>0</td>\n",
       "      <td>0</td>\n",
       "      <td>0</td>\n",
       "      <td>0</td>\n",
       "      <td>0</td>\n",
       "      <td>2</td>\n",
       "      <td>0</td>\n",
       "      <td>...</td>\n",
       "      <td>0</td>\n",
       "      <td>1</td>\n",
       "      <td>1</td>\n",
       "      <td>0</td>\n",
       "      <td>0</td>\n",
       "      <td>0</td>\n",
       "      <td>0</td>\n",
       "      <td>1</td>\n",
       "      <td>1</td>\n",
       "      <td>15</td>\n",
       "    </tr>\n",
       "  </tbody>\n",
       "</table>\n",
       "<p>5 rows × 37 columns</p>\n",
       "</div>"
      ],
      "text/plain": [
       "                Continente           Region  1980  1981  1982  1983  1984  \\\n",
       "Pais                                                                        \n",
       "Afganistán            Asia      Sur de Asia    16    39    39    47    71   \n",
       "Albania             Europa    Sur de Europa     1     0     0     0     0   \n",
       "Argelia             África  Norte de África    80    67    71    69    63   \n",
       "Samoa Americana    Oceanía        Polinesia     0     1     0     0     0   \n",
       "Andorra             Europa    Sur de Europa     0     0     0     0     0   \n",
       "\n",
       "                 1985  1986  1987  ...  2005  2006  2007  2008  2009  2010  \\\n",
       "Pais                               ...                                       \n",
       "Afganistán        340   496   741  ...  3436  3009  2652  2111  1746  1758   \n",
       "Albania             0     1     2  ...  1223   856   702   560   716   561   \n",
       "Argelia            44    69   132  ...  3626  4807  3623  4005  5393  4752   \n",
       "Samoa Americana     0     0     1  ...     0     1     0     0     0     0   \n",
       "Andorra             0     2     0  ...     0     1     1     0     0     0   \n",
       "\n",
       "                 2011  2012  2013  Total  \n",
       "Pais                                      \n",
       "Afganistán       2203  2635  2004  58639  \n",
       "Albania           539   620   603  15699  \n",
       "Argelia          4325  3774  4331  69439  \n",
       "Samoa Americana     0     0     0      6  \n",
       "Andorra             0     1     1     15  \n",
       "\n",
       "[5 rows x 37 columns]"
      ]
     },
     "execution_count": 6,
     "metadata": {},
     "output_type": "execute_result"
    }
   ],
   "source": [
    "df.head()"
   ]
  },
  {
   "cell_type": "markdown",
   "id": "be0df07c",
   "metadata": {},
   "source": [
    "### Lista con años"
   ]
  },
  {
   "cell_type": "code",
   "execution_count": 7,
   "id": "490fd110",
   "metadata": {},
   "outputs": [],
   "source": [
    "anos = list(map(str, range(1980,2014)))"
   ]
  },
  {
   "cell_type": "markdown",
   "id": "11f7c24e",
   "metadata": {},
   "source": [
    "### loc"
   ]
  },
  {
   "cell_type": "markdown",
   "id": "52b2a3a8",
   "metadata": {},
   "source": [
    "loc se usa para acceder a filas y columnas por sus etiquetas\n",
    "\n",
    "``'colombia'`` es la fila\n",
    "``anos`` es la columna\n",
    "\n",
    "Dara el el resultado de la posicion entre fila y columna"
   ]
  },
  {
   "cell_type": "code",
   "execution_count": 12,
   "id": "0916f47e",
   "metadata": {},
   "outputs": [
    {
     "data": {
      "text/plain": [
       "1980    266\n",
       "1981    326\n",
       "1982    360\n",
       "1983    244\n",
       "1984    235\n",
       "Name: Colombia, dtype: object"
      ]
     },
     "execution_count": 12,
     "metadata": {},
     "output_type": "execute_result"
    }
   ],
   "source": [
    "colombia = df.loc['Colombia',anos]\n",
    "colombia.head()"
   ]
  },
  {
   "cell_type": "code",
   "execution_count": 13,
   "id": "20578c14",
   "metadata": {},
   "outputs": [
    {
     "data": {
      "text/plain": [
       "1980    16\n",
       "1981    39\n",
       "1982    39\n",
       "1983    47\n",
       "1984    71\n",
       "Name: Afganistán, dtype: object"
      ]
     },
     "execution_count": 13,
     "metadata": {},
     "output_type": "execute_result"
    }
   ],
   "source": [
    "afganistan = df.loc['Afganistán',anos]\n",
    "afganistan.head()"
   ]
  },
  {
   "cell_type": "markdown",
   "id": "4622e378",
   "metadata": {},
   "source": [
    "### Crea un diccionario - lista"
   ]
  },
  {
   "cell_type": "code",
   "execution_count": 19,
   "id": "990e131e",
   "metadata": {},
   "outputs": [
    {
     "data": {
      "text/plain": [
       "{'Año': ['1980',\n",
       "  '1981',\n",
       "  '1982',\n",
       "  '1983',\n",
       "  '1984',\n",
       "  '1985',\n",
       "  '1986',\n",
       "  '1987',\n",
       "  '1988',\n",
       "  '1989',\n",
       "  '1990',\n",
       "  '1991',\n",
       "  '1992',\n",
       "  '1993',\n",
       "  '1994',\n",
       "  '1995',\n",
       "  '1996',\n",
       "  '1997',\n",
       "  '1998',\n",
       "  '1999',\n",
       "  '2000',\n",
       "  '2001',\n",
       "  '2002',\n",
       "  '2003',\n",
       "  '2004',\n",
       "  '2005',\n",
       "  '2006',\n",
       "  '2007',\n",
       "  '2008',\n",
       "  '2009',\n",
       "  '2010',\n",
       "  '2011',\n",
       "  '2012',\n",
       "  '2013'],\n",
       " 'Inmigrantes': [np.int64(266),\n",
       "  np.int64(326),\n",
       "  np.int64(360),\n",
       "  np.int64(244),\n",
       "  np.int64(235),\n",
       "  np.int64(214),\n",
       "  np.int64(257),\n",
       "  np.int64(376),\n",
       "  np.int64(352),\n",
       "  np.int64(439),\n",
       "  np.int64(614),\n",
       "  np.int64(652),\n",
       "  np.int64(582),\n",
       "  np.int64(464),\n",
       "  np.int64(375),\n",
       "  np.int64(371),\n",
       "  np.int64(381),\n",
       "  np.int64(578),\n",
       "  np.int64(929),\n",
       "  np.int64(1306),\n",
       "  np.int64(2259),\n",
       "  np.int64(2965),\n",
       "  np.int64(3283),\n",
       "  np.int64(4318),\n",
       "  np.int64(4566),\n",
       "  np.int64(6424),\n",
       "  np.int64(6535),\n",
       "  np.int64(5357),\n",
       "  np.int64(5452),\n",
       "  np.int64(4652),\n",
       "  np.int64(5218),\n",
       "  np.int64(4366),\n",
       "  np.int64(3741),\n",
       "  np.int64(3631)]}"
      ]
     },
     "execution_count": 19,
     "metadata": {},
     "output_type": "execute_result"
    }
   ],
   "source": [
    "col_dict = {'Año':colombia.index.tolist(),\n",
    "            'Inmigrantes':colombia.values.tolist()}\n",
    "col_dict"
   ]
  },
  {
   "cell_type": "markdown",
   "id": "c2be7cf5",
   "metadata": {},
   "source": [
    "### Convertimos de diccionaio a dataframe"
   ]
  },
  {
   "cell_type": "code",
   "execution_count": 22,
   "id": "d0ac146a",
   "metadata": {},
   "outputs": [
    {
     "data": {
      "text/html": [
       "<div>\n",
       "<style scoped>\n",
       "    .dataframe tbody tr th:only-of-type {\n",
       "        vertical-align: middle;\n",
       "    }\n",
       "\n",
       "    .dataframe tbody tr th {\n",
       "        vertical-align: top;\n",
       "    }\n",
       "\n",
       "    .dataframe thead th {\n",
       "        text-align: right;\n",
       "    }\n",
       "</style>\n",
       "<table border=\"1\" class=\"dataframe\">\n",
       "  <thead>\n",
       "    <tr style=\"text-align: right;\">\n",
       "      <th></th>\n",
       "      <th>Año</th>\n",
       "      <th>Inmigrantes</th>\n",
       "    </tr>\n",
       "  </thead>\n",
       "  <tbody>\n",
       "    <tr>\n",
       "      <th>8</th>\n",
       "      <td>1988</td>\n",
       "      <td>352</td>\n",
       "    </tr>\n",
       "    <tr>\n",
       "      <th>18</th>\n",
       "      <td>1998</td>\n",
       "      <td>929</td>\n",
       "    </tr>\n",
       "    <tr>\n",
       "      <th>14</th>\n",
       "      <td>1994</td>\n",
       "      <td>375</td>\n",
       "    </tr>\n",
       "    <tr>\n",
       "      <th>0</th>\n",
       "      <td>1980</td>\n",
       "      <td>266</td>\n",
       "    </tr>\n",
       "    <tr>\n",
       "      <th>31</th>\n",
       "      <td>2011</td>\n",
       "      <td>4366</td>\n",
       "    </tr>\n",
       "  </tbody>\n",
       "</table>\n",
       "</div>"
      ],
      "text/plain": [
       "     Año  Inmigrantes\n",
       "8   1988          352\n",
       "18  1998          929\n",
       "14  1994          375\n",
       "0   1980          266\n",
       "31  2011         4366"
      ]
     },
     "execution_count": 22,
     "metadata": {},
     "output_type": "execute_result"
    }
   ],
   "source": [
    "datos_col = pd.DataFrame(col_dict)\n",
    "datos_col.sample(5)"
   ]
  },
  {
   "cell_type": "markdown",
   "id": "f4fb1dce",
   "metadata": {},
   "source": [
    "## Matplotlib"
   ]
  },
  {
   "cell_type": "code",
   "execution_count": 23,
   "id": "b7c3cf90",
   "metadata": {},
   "outputs": [],
   "source": [
    "import matplotlib.pyplot as plt"
   ]
  },
  {
   "cell_type": "markdown",
   "id": "91241ec5",
   "metadata": {},
   "source": [
    "### Grafica plt.plot"
   ]
  },
  {
   "cell_type": "code",
   "execution_count": 26,
   "id": "a6b50823",
   "metadata": {},
   "outputs": [
    {
     "data": {
      "text/plain": [
       "[<matplotlib.lines.Line2D at 0x2393f216c10>]"
      ]
     },
     "execution_count": 26,
     "metadata": {},
     "output_type": "execute_result"
    },
    {
     "data": {
      "image/png": "[encoded data removed]",
      "text/plain": [
       "<Figure size 640x480 with 1 Axes>"
      ]
     },
     "metadata": {},
     "output_type": "display_data"
    }
   ],
   "source": [
    "plt.plot(datos_col['Año'],datos_col['Inmigrantes'])"
   ]
  },
  {
   "cell_type": "markdown",
   "id": "ae25e978",
   "metadata": {},
   "source": [
    "### Mejora la grafica"
   ]
  },
  {
   "cell_type": "code",
   "execution_count": 33,
   "id": "3ad80bac",
   "metadata": {},
   "outputs": [
    {
     "data": {
      "image/png": "[encoded data removed]",
      "text/plain": [
       "<Figure size 800x400 with 1 Axes>"
      ]
     },
     "metadata": {},
     "output_type": "display_data"
    }
   ],
   "source": [
    "plt.figure(figsize=(8,4)) # Tamaño de la grafica en pulgadas\n",
    "plt.plot(datos_col['Año'],datos_col['Inmigrantes'])\n",
    "plt.xticks(['1980','1985','1990','1995','2000','2005','2010']) # Cambia los label de x\n",
    "plt.show() # Muestra solo la grafica"
   ]
  },
  {
   "cell_type": "markdown",
   "id": "db737e5f",
   "metadata": {},
   "source": [
    "### Titulo de grafica"
   ]
  },
  {
   "cell_type": "code",
   "execution_count": 34,
   "id": "d6347b8f",
   "metadata": {},
   "outputs": [
    {
     "data": {
      "image/png": "[encoded data removed]",
      "text/plain": [
       "<Figure size 800x400 with 1 Axes>"
      ]
     },
     "metadata": {},
     "output_type": "display_data"
    }
   ],
   "source": [
    "plt.figure(figsize=(8,4)) # Tamaño de la grafica en pulgadas\n",
    "plt.plot(datos_col['Año'],datos_col['Inmigrantes'])\n",
    "plt.xticks(['1980','1985','1990','1995','2000','2005','2010']) # Cambia los label de x\n",
    "plt.title('Inmigración de colombianos hacia Canada')\n",
    "plt.xlabel('Año')\n",
    "plt.ylabel('Número de inmigrantes')\n",
    "plt.show() # Muestra solo la grafica"
   ]
  },
  {
   "cell_type": "markdown",
   "id": "bbe083d6",
   "metadata": {},
   "source": [
    "## Tarea Bloque 1"
   ]
  },
  {
   "cell_type": "markdown",
   "id": "631621dd",
   "metadata": {},
   "source": [
    "Ha llegado el momento de que pongas a prueba los conocimientos desarrollados durante la clase. Creamos un gráfico con la función ``plt.plot()`` para analizar las intrigantes tendencias de inmigración de Colombia a Canadá, desde 1980 hasta 2013. Ahora tenemos una nueva tarea: crear un gráfico de líneas comparando los números de inmigrantes de Brasil y Argentina a Canadá, los dos países más grandes de Sudamérica.\n",
    "\n",
    "Prepárate para sumergirte en las fascinantes líneas que conectan estos países sudamericanos con el territorio canadiense. En esta misión, la elaboración de este gráfico puede ser útil para comprender las tendencias migratorias de estos países a Canadá a lo largo del tiempo y cómo se comparan entre sí. Al analizar estos factores, podemos obtener una visión más amplia del panorama migratorio en Sudamérica.\n",
    "\n",
    "¡No te preocupes!\n",
    "\n",
    "Esta nueva tarea es más desafiante, ya que requiere un análisis comparativo entre dos países. Sin embargo, también te permitirá obtener un aprendizaje enriquecedor. Por lo tanto, explora las diversas posibilidades y recuerda los elementos esenciales de un gráfico: título, etiquetas en los ejes x e y y las marcas del eje x, que deben definirse cada 5 años.\n",
    "\n",
    "Además, tendrás que descubrir cómo agregar una leyenda para poder identificar la línea de cada país. Siguiendo estas instrucciones, habrás construido un gráfico sólido que te permitirá un análisis significativo y profundo.\n",
    "\n",
    "Después de crear el gráfico, analiza el resultado obtenido y reflexiona sobre las siguientes preguntas:\n",
    "\n",
    "- ¿Hay alguna tendencia o patrón común en los datos de ambos países?\n",
    "- ¿Cuáles son los períodos con mayor número de inmigrantes en ambos países?\n",
    "- ¿Estás listo para avanzar?"
   ]
  },
  {
   "cell_type": "code",
   "execution_count": null,
   "id": "45507a7e",
   "metadata": {},
   "outputs": [
    {
     "data": {
      "text/plain": [
       "1980    211\n",
       "1981    220\n",
       "1982    192\n",
       "1983    139\n",
       "1984    145\n",
       "Name: Brasil, dtype: object"
      ]
     },
     "execution_count": 38,
     "metadata": {},
     "output_type": "execute_result"
    }
   ],
   "source": [
    "# Obtenemos los datos de brasil y lo guardamos en un pandas series\n",
    "brasil = df.loc['Brasil',anos]\n",
    "brasil.head()"
   ]
  },
  {
   "cell_type": "code",
   "execution_count": null,
   "id": "1bf2053d",
   "metadata": {},
   "outputs": [
    {
     "data": {
      "text/plain": [
       "1980    368\n",
       "1981    426\n",
       "1982    626\n",
       "1983    241\n",
       "1984    237\n",
       "Name: Argentina, dtype: object"
      ]
     },
     "execution_count": 36,
     "metadata": {},
     "output_type": "execute_result"
    }
   ],
   "source": [
    "# Obtenemos los datos de argentina y lo guardamos en un pandas series\n",
    "argentina = df.loc['Argentina',anos]\n",
    "argentina.head()"
   ]
  },
  {
   "cell_type": "code",
   "execution_count": 39,
   "id": "39221adf",
   "metadata": {},
   "outputs": [
    {
     "data": {
      "text/plain": [
       "{'Año': ['1980',\n",
       "  '1981',\n",
       "  '1982',\n",
       "  '1983',\n",
       "  '1984',\n",
       "  '1985',\n",
       "  '1986',\n",
       "  '1987',\n",
       "  '1988',\n",
       "  '1989',\n",
       "  '1990',\n",
       "  '1991',\n",
       "  '1992',\n",
       "  '1993',\n",
       "  '1994',\n",
       "  '1995',\n",
       "  '1996',\n",
       "  '1997',\n",
       "  '1998',\n",
       "  '1999',\n",
       "  '2000',\n",
       "  '2001',\n",
       "  '2002',\n",
       "  '2003',\n",
       "  '2004',\n",
       "  '2005',\n",
       "  '2006',\n",
       "  '2007',\n",
       "  '2008',\n",
       "  '2009',\n",
       "  '2010',\n",
       "  '2011',\n",
       "  '2012',\n",
       "  '2013'],\n",
       " 'Inmigrantes': [np.int64(211),\n",
       "  np.int64(220),\n",
       "  np.int64(192),\n",
       "  np.int64(139),\n",
       "  np.int64(145),\n",
       "  np.int64(130),\n",
       "  np.int64(205),\n",
       "  np.int64(244),\n",
       "  np.int64(394),\n",
       "  np.int64(650),\n",
       "  np.int64(650),\n",
       "  np.int64(877),\n",
       "  np.int64(1066),\n",
       "  np.int64(866),\n",
       "  np.int64(566),\n",
       "  np.int64(572),\n",
       "  np.int64(586),\n",
       "  np.int64(591),\n",
       "  np.int64(531),\n",
       "  np.int64(626),\n",
       "  np.int64(845),\n",
       "  np.int64(847),\n",
       "  np.int64(745),\n",
       "  np.int64(839),\n",
       "  np.int64(917),\n",
       "  np.int64(969),\n",
       "  np.int64(1181),\n",
       "  np.int64(1746),\n",
       "  np.int64(2138),\n",
       "  np.int64(2509),\n",
       "  np.int64(2598),\n",
       "  np.int64(1508),\n",
       "  np.int64(1642),\n",
       "  np.int64(1714)]}"
      ]
     },
     "execution_count": 39,
     "metadata": {},
     "output_type": "execute_result"
    }
   ],
   "source": [
    "# Convertimos los datos obtenidos en diccionarios\n",
    "bra_dict = {'Año':brasil.index.tolist(),\n",
    "            'Inmigrantes':brasil.values.tolist()}\n",
    "bra_dict"
   ]
  },
  {
   "cell_type": "code",
   "execution_count": 42,
   "id": "3b7faa27",
   "metadata": {},
   "outputs": [
    {
     "data": {
      "text/plain": [
       "{'Año': ['1980',\n",
       "  '1981',\n",
       "  '1982',\n",
       "  '1983',\n",
       "  '1984',\n",
       "  '1985',\n",
       "  '1986',\n",
       "  '1987',\n",
       "  '1988',\n",
       "  '1989',\n",
       "  '1990',\n",
       "  '1991',\n",
       "  '1992',\n",
       "  '1993',\n",
       "  '1994',\n",
       "  '1995',\n",
       "  '1996',\n",
       "  '1997',\n",
       "  '1998',\n",
       "  '1999',\n",
       "  '2000',\n",
       "  '2001',\n",
       "  '2002',\n",
       "  '2003',\n",
       "  '2004',\n",
       "  '2005',\n",
       "  '2006',\n",
       "  '2007',\n",
       "  '2008',\n",
       "  '2009',\n",
       "  '2010',\n",
       "  '2011',\n",
       "  '2012',\n",
       "  '2013'],\n",
       " 'Inmigrantes': [np.int64(368),\n",
       "  np.int64(426),\n",
       "  np.int64(626),\n",
       "  np.int64(241),\n",
       "  np.int64(237),\n",
       "  np.int64(196),\n",
       "  np.int64(213),\n",
       "  np.int64(519),\n",
       "  np.int64(374),\n",
       "  np.int64(538),\n",
       "  np.int64(678),\n",
       "  np.int64(763),\n",
       "  np.int64(1023),\n",
       "  np.int64(1022),\n",
       "  np.int64(366),\n",
       "  np.int64(380),\n",
       "  np.int64(396),\n",
       "  np.int64(391),\n",
       "  np.int64(349),\n",
       "  np.int64(318),\n",
       "  np.int64(427),\n",
       "  np.int64(635),\n",
       "  np.int64(865),\n",
       "  np.int64(1745),\n",
       "  np.int64(1591),\n",
       "  np.int64(1153),\n",
       "  np.int64(847),\n",
       "  np.int64(620),\n",
       "  np.int64(540),\n",
       "  np.int64(467),\n",
       "  np.int64(459),\n",
       "  np.int64(278),\n",
       "  np.int64(263),\n",
       "  np.int64(282)]}"
      ]
     },
     "execution_count": 42,
     "metadata": {},
     "output_type": "execute_result"
    }
   ],
   "source": [
    "arg_dict = {'Año':argentina.index.tolist(),\n",
    "            'Inmigrantes':argentina.values.tolist()}\n",
    "arg_dict"
   ]
  },
  {
   "cell_type": "code",
   "execution_count": 41,
   "id": "a92c38b0",
   "metadata": {},
   "outputs": [
    {
     "data": {
      "text/html": [
       "<div>\n",
       "<style scoped>\n",
       "    .dataframe tbody tr th:only-of-type {\n",
       "        vertical-align: middle;\n",
       "    }\n",
       "\n",
       "    .dataframe tbody tr th {\n",
       "        vertical-align: top;\n",
       "    }\n",
       "\n",
       "    .dataframe thead th {\n",
       "        text-align: right;\n",
       "    }\n",
       "</style>\n",
       "<table border=\"1\" class=\"dataframe\">\n",
       "  <thead>\n",
       "    <tr style=\"text-align: right;\">\n",
       "      <th></th>\n",
       "      <th>Año</th>\n",
       "      <th>Inmigrantes</th>\n",
       "    </tr>\n",
       "  </thead>\n",
       "  <tbody>\n",
       "    <tr>\n",
       "      <th>2</th>\n",
       "      <td>1982</td>\n",
       "      <td>192</td>\n",
       "    </tr>\n",
       "    <tr>\n",
       "      <th>22</th>\n",
       "      <td>2002</td>\n",
       "      <td>745</td>\n",
       "    </tr>\n",
       "    <tr>\n",
       "      <th>7</th>\n",
       "      <td>1987</td>\n",
       "      <td>244</td>\n",
       "    </tr>\n",
       "    <tr>\n",
       "      <th>15</th>\n",
       "      <td>1995</td>\n",
       "      <td>572</td>\n",
       "    </tr>\n",
       "    <tr>\n",
       "      <th>8</th>\n",
       "      <td>1988</td>\n",
       "      <td>394</td>\n",
       "    </tr>\n",
       "  </tbody>\n",
       "</table>\n",
       "</div>"
      ],
      "text/plain": [
       "     Año  Inmigrantes\n",
       "2   1982          192\n",
       "22  2002          745\n",
       "7   1987          244\n",
       "15  1995          572\n",
       "8   1988          394"
      ]
     },
     "execution_count": 41,
     "metadata": {},
     "output_type": "execute_result"
    }
   ],
   "source": [
    "# Convertimos los diccionarios en data frames\n",
    "datos_bra = pd.DataFrame(bra_dict)\n",
    "datos_bra.sample(5)"
   ]
  },
  {
   "cell_type": "code",
   "execution_count": 43,
   "id": "4fc01264",
   "metadata": {},
   "outputs": [
    {
     "data": {
      "text/html": [
       "<div>\n",
       "<style scoped>\n",
       "    .dataframe tbody tr th:only-of-type {\n",
       "        vertical-align: middle;\n",
       "    }\n",
       "\n",
       "    .dataframe tbody tr th {\n",
       "        vertical-align: top;\n",
       "    }\n",
       "\n",
       "    .dataframe thead th {\n",
       "        text-align: right;\n",
       "    }\n",
       "</style>\n",
       "<table border=\"1\" class=\"dataframe\">\n",
       "  <thead>\n",
       "    <tr style=\"text-align: right;\">\n",
       "      <th></th>\n",
       "      <th>Año</th>\n",
       "      <th>Inmigrantes</th>\n",
       "    </tr>\n",
       "  </thead>\n",
       "  <tbody>\n",
       "    <tr>\n",
       "      <th>19</th>\n",
       "      <td>1999</td>\n",
       "      <td>318</td>\n",
       "    </tr>\n",
       "    <tr>\n",
       "      <th>5</th>\n",
       "      <td>1985</td>\n",
       "      <td>196</td>\n",
       "    </tr>\n",
       "    <tr>\n",
       "      <th>27</th>\n",
       "      <td>2007</td>\n",
       "      <td>620</td>\n",
       "    </tr>\n",
       "    <tr>\n",
       "      <th>28</th>\n",
       "      <td>2008</td>\n",
       "      <td>540</td>\n",
       "    </tr>\n",
       "    <tr>\n",
       "      <th>24</th>\n",
       "      <td>2004</td>\n",
       "      <td>1591</td>\n",
       "    </tr>\n",
       "  </tbody>\n",
       "</table>\n",
       "</div>"
      ],
      "text/plain": [
       "     Año  Inmigrantes\n",
       "19  1999          318\n",
       "5   1985          196\n",
       "27  2007          620\n",
       "28  2008          540\n",
       "24  2004         1591"
      ]
     },
     "execution_count": 43,
     "metadata": {},
     "output_type": "execute_result"
    }
   ],
   "source": [
    "datos_arg = pd.DataFrame(arg_dict)\n",
    "datos_arg.sample(5)"
   ]
  },
  {
   "cell_type": "code",
   "execution_count": 47,
   "id": "94171143",
   "metadata": {},
   "outputs": [
    {
     "data": {
      "image/png": "[encoded data removed]",
      "text/plain": [
       "<Figure size 800x400 with 1 Axes>"
      ]
     },
     "metadata": {},
     "output_type": "display_data"
    }
   ],
   "source": [
    "# Grafica los data frames\n",
    "plt.figure(figsize=(8,4)) # Tamaño de la grafica en pulgadas\n",
    "plt.plot(datos_bra['Año'],datos_bra['Inmigrantes'])\n",
    "plt.plot(datos_arg['Año'],datos_arg['Inmigrantes'])\n",
    "plt.legend(['Brasil', 'Argentina']) # Agrgamos legend para diferenciar las lineas de las graficas\n",
    "plt.xticks(['1980','1985','1990','1995','2000','2005','2010']) # Cambia los label de x\n",
    "plt.title('Inmigración de brasileños y argentinos hacia Canada')\n",
    "plt.xlabel('Año')\n",
    "plt.ylabel('Número de inmigrantes')\n",
    "plt.show() # Muestra solo la grafica"
   ]
  },
  {
   "cell_type": "code",
   "execution_count": null,
   "id": "7a2a7ba4",
   "metadata": {},
   "outputs": [],
   "source": []
  }
 ],
 "metadata": {
  "kernelspec": {
   "display_name": "Python 3",
   "language": "python",
   "name": "python3"
  },
  "language_info": {
   "codemirror_mode": {
    "name": "ipython",
    "version": 3
   },
   "file_extension": ".py",
   "mimetype": "text/x-python",
   "name": "python",
   "nbconvert_exporter": "python",
   "pygments_lexer": "ipython3",
   "version": "3.11.9"
  }
 },
 "nbformat": 4,
 "nbformat_minor": 5
}
