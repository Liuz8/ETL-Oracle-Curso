{
 "cells": [
  {
   "cell_type": "markdown",
   "id": "c6691acf",
   "metadata": {},
   "source": [
    "# Bloque 1"
   ]
  },
  {
   "cell_type": "code",
   "execution_count": 3,
   "id": "678220fd",
   "metadata": {},
   "outputs": [],
   "source": [
    "import pandas as pd\n",
    "import seaborn as sns\n",
    "import matplotlib.pyplot as plt"
   ]
  },
  {
   "cell_type": "markdown",
   "id": "cdd2ee98",
   "metadata": {},
   "source": [
    "## Zoop Pay"
   ]
  },
  {
   "cell_type": "markdown",
   "id": "25e0d89f",
   "metadata": {},
   "source": [
    "Has recibido una nueva solicitud de las partes interesadas de Zoop, en la que será necesario agregar más columnas de otra base de datos a la tabla consolidada en el video anterior.\n",
    "\n",
    "A diferencia de las actividades que estamos realizando en los videos de este curso, aquí también utilizaremos esta nueva base para la construcción de los visuales dentro de los ejercicios de \"Manos a la obra\", enfocándonos en las demandas presentadas en las instrucciones de los ejercicios.\n",
    "\n",
    "Los archivos que vamos a utilizar en esta parte del proyecto son:\n",
    "\n",
    "* Datos de clientes del e-commerce de Zoop, separados por el código identificador de la compra.\n",
    "* Datos de ventas del e-commerce de Zoop en 2023, separados por el código identificador de la compra.\n",
    "* Datos de clientes pre-registrados en Zoop Pay, la billetera digital de Zoop que está en proceso de implementación.\n",
    "\n",
    "Estos datos se leerán a través de enlaces (URL) que compartimos a continuación:"
   ]
  },
  {
   "cell_type": "code",
   "execution_count": 4,
   "id": "e1fb1c0d",
   "metadata": {},
   "outputs": [],
   "source": [
    "url_clientes = \"https://gist.githubusercontent.com/ahcamachod/d08898e1cc84c7271856e78d9558ca3d/raw/2f7e1fa53711efe6433a5c5ec79948f600591cb9/clientes_zoop.csv\"\n",
    "url_ventas = \"https://gist.githubusercontent.com/ahcamachod/966d7162a3c3a2769b8770b35abf1bcc/raw/d79941b3fa46a450f3611589abd8663399c1277b/ventas_zoop.csv\"\n",
    "url_zoop_pay = \"https://gist.githubusercontent.com/ahcamachod/ce728231a836a973c0df94a9f03ed871/raw/8db6da43d7cd94fcab937208067d0fceb521b78c/zoop_pay.csv\""
   ]
  },
  {
   "cell_type": "markdown",
   "id": "5e73832f",
   "metadata": {},
   "source": [
    "Ahora que ya sabemos cuáles son los datos necesarios para la realización del proyecto, vamos a abrir el notebook mencionado anteriormente y realizar la siguiente actividad:\n",
    "\n",
    "Construye y ejecuta un prompt en ChatGPT solicitando que lea las tres bases de datos y cree una única tabla concatenándolas. Recuerda ser bastante específico en cuanto al orden de las columnas y cuáles serán necesarias para realizar la concatenación de los datos, además de tratar la columna de fecha para el formato adecuado.\n",
    "\n",
    "**Consejo 1**: Para facilitar el proceso, pide a ChatGPT que primero concatene los datos de clientes y ventas en una tabla llamada df y, finalmente, que concatene esta nueva tabla con la base de clientes pre-registrados en Zoop Pay, generando así la tabla consolidada con todos los datos. Este proceso puede realizarse paso a paso en dos prompts, por ejemplo.\n",
    "\n",
    "Si necesitas ayuda, una opción de solución de la actividad estará disponible en la sección \"Opinión del instructor\"."
   ]
  },
  {
   "cell_type": "code",
   "execution_count": 5,
   "id": "f6374438",
   "metadata": {},
   "outputs": [],
   "source": [
    "clientes = pd.read_csv(url_clientes)\n",
    "ventas = pd.read_csv(url_ventas)\n",
    "zoop_pay = pd.read_csv(url_zoop_pay)"
   ]
  },
  {
   "cell_type": "code",
   "execution_count": 6,
   "id": "87e151ea",
   "metadata": {},
   "outputs": [
    {
     "data": {
      "text/html": [
       "<div>\n",
       "<style scoped>\n",
       "    .dataframe tbody tr th:only-of-type {\n",
       "        vertical-align: middle;\n",
       "    }\n",
       "\n",
       "    .dataframe tbody tr th {\n",
       "        vertical-align: top;\n",
       "    }\n",
       "\n",
       "    .dataframe thead th {\n",
       "        text-align: right;\n",
       "    }\n",
       "</style>\n",
       "<table border=\"1\" class=\"dataframe\">\n",
       "  <thead>\n",
       "    <tr style=\"text-align: right;\">\n",
       "      <th></th>\n",
       "      <th>ID_compra</th>\n",
       "      <th>ID_cliente</th>\n",
       "      <th>ciudad</th>\n",
       "      <th>estado</th>\n",
       "      <th>region</th>\n",
       "      <th>edad</th>\n",
       "      <th>sexo_biologico</th>\n",
       "      <th>cashback</th>\n",
       "      <th>nota</th>\n",
       "    </tr>\n",
       "  </thead>\n",
       "  <tbody>\n",
       "    <tr>\n",
       "      <th>0</th>\n",
       "      <td>904</td>\n",
       "      <td>8972</td>\n",
       "      <td>Oaxaca de Juárez</td>\n",
       "      <td>Oaxaca</td>\n",
       "      <td>Sur</td>\n",
       "      <td>49</td>\n",
       "      <td>Masculino</td>\n",
       "      <td>No</td>\n",
       "      <td>9</td>\n",
       "    </tr>\n",
       "    <tr>\n",
       "      <th>1</th>\n",
       "      <td>4613</td>\n",
       "      <td>5120</td>\n",
       "      <td>Ciudad de México</td>\n",
       "      <td>Ciudad de México</td>\n",
       "      <td>Centro</td>\n",
       "      <td>49</td>\n",
       "      <td>Femenino</td>\n",
       "      <td>No</td>\n",
       "      <td>9</td>\n",
       "    </tr>\n",
       "    <tr>\n",
       "      <th>2</th>\n",
       "      <td>5579</td>\n",
       "      <td>1847</td>\n",
       "      <td>Ciudad de México</td>\n",
       "      <td>Ciudad de México</td>\n",
       "      <td>Centro</td>\n",
       "      <td>24</td>\n",
       "      <td>Femenino</td>\n",
       "      <td>No</td>\n",
       "      <td>8</td>\n",
       "    </tr>\n",
       "    <tr>\n",
       "      <th>3</th>\n",
       "      <td>2405</td>\n",
       "      <td>2846</td>\n",
       "      <td>Ciudad de México</td>\n",
       "      <td>Ciudad de México</td>\n",
       "      <td>Centro</td>\n",
       "      <td>38</td>\n",
       "      <td>Femenino</td>\n",
       "      <td>Sí</td>\n",
       "      <td>7</td>\n",
       "    </tr>\n",
       "    <tr>\n",
       "      <th>4</th>\n",
       "      <td>2485</td>\n",
       "      <td>2715</td>\n",
       "      <td>Chihuahua</td>\n",
       "      <td>Chihuahua</td>\n",
       "      <td>Noroeste</td>\n",
       "      <td>30</td>\n",
       "      <td>Femenino</td>\n",
       "      <td>No</td>\n",
       "      <td>10</td>\n",
       "    </tr>\n",
       "  </tbody>\n",
       "</table>\n",
       "</div>"
      ],
      "text/plain": [
       "   ID_compra  ID_cliente            ciudad            estado    region  edad  \\\n",
       "0        904        8972  Oaxaca de Juárez            Oaxaca       Sur    49   \n",
       "1       4613        5120  Ciudad de México  Ciudad de México    Centro    49   \n",
       "2       5579        1847  Ciudad de México  Ciudad de México    Centro    24   \n",
       "3       2405        2846  Ciudad de México  Ciudad de México    Centro    38   \n",
       "4       2485        2715         Chihuahua         Chihuahua  Noroeste    30   \n",
       "\n",
       "  sexo_biologico cashback  nota  \n",
       "0      Masculino       No     9  \n",
       "1       Femenino       No     9  \n",
       "2       Femenino       No     8  \n",
       "3       Femenino       Sí     7  \n",
       "4       Femenino       No    10  "
      ]
     },
     "execution_count": 6,
     "metadata": {},
     "output_type": "execute_result"
    }
   ],
   "source": [
    "clientes.head()"
   ]
  },
  {
   "cell_type": "code",
   "execution_count": 7,
   "id": "d590bd9c",
   "metadata": {},
   "outputs": [
    {
     "data": {
      "text/html": [
       "<div>\n",
       "<style scoped>\n",
       "    .dataframe tbody tr th:only-of-type {\n",
       "        vertical-align: middle;\n",
       "    }\n",
       "\n",
       "    .dataframe tbody tr th {\n",
       "        vertical-align: top;\n",
       "    }\n",
       "\n",
       "    .dataframe thead th {\n",
       "        text-align: right;\n",
       "    }\n",
       "</style>\n",
       "<table border=\"1\" class=\"dataframe\">\n",
       "  <thead>\n",
       "    <tr style=\"text-align: right;\">\n",
       "      <th></th>\n",
       "      <th>ID_compra</th>\n",
       "      <th>fecha</th>\n",
       "      <th>horario</th>\n",
       "      <th>categoria</th>\n",
       "      <th>precio_unitario</th>\n",
       "      <th>cantidad</th>\n",
       "      <th>envio</th>\n",
       "      <th>metodo_pago</th>\n",
       "    </tr>\n",
       "  </thead>\n",
       "  <tbody>\n",
       "    <tr>\n",
       "      <th>0</th>\n",
       "      <td>6</td>\n",
       "      <td>2023-01-03</td>\n",
       "      <td>20:40</td>\n",
       "      <td>Electrónicos</td>\n",
       "      <td>4457.9</td>\n",
       "      <td>4</td>\n",
       "      <td>713.26</td>\n",
       "      <td>Paypal</td>\n",
       "    </tr>\n",
       "    <tr>\n",
       "      <th>1</th>\n",
       "      <td>5</td>\n",
       "      <td>2023-01-03</td>\n",
       "      <td>21:48</td>\n",
       "      <td>Herramientas y construcción</td>\n",
       "      <td>115.9</td>\n",
       "      <td>1</td>\n",
       "      <td>0.00</td>\n",
       "      <td>Transferencia</td>\n",
       "    </tr>\n",
       "    <tr>\n",
       "      <th>2</th>\n",
       "      <td>9</td>\n",
       "      <td>2023-01-03</td>\n",
       "      <td>17:08</td>\n",
       "      <td>Belleza e higiene</td>\n",
       "      <td>68.9</td>\n",
       "      <td>2</td>\n",
       "      <td>13.78</td>\n",
       "      <td>Tarjeta de Crédito</td>\n",
       "    </tr>\n",
       "    <tr>\n",
       "      <th>3</th>\n",
       "      <td>4</td>\n",
       "      <td>2023-01-03</td>\n",
       "      <td>14:29</td>\n",
       "      <td>Herramientas y construcción</td>\n",
       "      <td>80.9</td>\n",
       "      <td>5</td>\n",
       "      <td>40.45</td>\n",
       "      <td>Transferencia</td>\n",
       "    </tr>\n",
       "    <tr>\n",
       "      <th>4</th>\n",
       "      <td>8</td>\n",
       "      <td>2023-01-03</td>\n",
       "      <td>18:02</td>\n",
       "      <td>Belleza e higiene</td>\n",
       "      <td>165.0</td>\n",
       "      <td>4</td>\n",
       "      <td>0.00</td>\n",
       "      <td>Transferencia</td>\n",
       "    </tr>\n",
       "  </tbody>\n",
       "</table>\n",
       "</div>"
      ],
      "text/plain": [
       "   ID_compra       fecha horario                    categoria  \\\n",
       "0          6  2023-01-03   20:40                 Electrónicos   \n",
       "1          5  2023-01-03   21:48  Herramientas y construcción   \n",
       "2          9  2023-01-03   17:08            Belleza e higiene   \n",
       "3          4  2023-01-03   14:29  Herramientas y construcción   \n",
       "4          8  2023-01-03   18:02            Belleza e higiene   \n",
       "\n",
       "   precio_unitario  cantidad   envio         metodo_pago  \n",
       "0           4457.9         4  713.26              Paypal  \n",
       "1            115.9         1    0.00       Transferencia  \n",
       "2             68.9         2   13.78  Tarjeta de Crédito  \n",
       "3             80.9         5   40.45       Transferencia  \n",
       "4            165.0         4    0.00       Transferencia  "
      ]
     },
     "execution_count": 7,
     "metadata": {},
     "output_type": "execute_result"
    }
   ],
   "source": [
    "ventas.head()"
   ]
  },
  {
   "cell_type": "code",
   "execution_count": 8,
   "id": "aa8db1d6",
   "metadata": {},
   "outputs": [
    {
     "data": {
      "text/html": [
       "<div>\n",
       "<style scoped>\n",
       "    .dataframe tbody tr th:only-of-type {\n",
       "        vertical-align: middle;\n",
       "    }\n",
       "\n",
       "    .dataframe tbody tr th {\n",
       "        vertical-align: top;\n",
       "    }\n",
       "\n",
       "    .dataframe thead th {\n",
       "        text-align: right;\n",
       "    }\n",
       "</style>\n",
       "<table border=\"1\" class=\"dataframe\">\n",
       "  <thead>\n",
       "    <tr style=\"text-align: right;\">\n",
       "      <th></th>\n",
       "      <th>ID_cliente</th>\n",
       "      <th>zoop_pay</th>\n",
       "    </tr>\n",
       "  </thead>\n",
       "  <tbody>\n",
       "    <tr>\n",
       "      <th>0</th>\n",
       "      <td>6149</td>\n",
       "      <td>No</td>\n",
       "    </tr>\n",
       "    <tr>\n",
       "      <th>1</th>\n",
       "      <td>9491</td>\n",
       "      <td>Sí</td>\n",
       "    </tr>\n",
       "    <tr>\n",
       "      <th>2</th>\n",
       "      <td>5288</td>\n",
       "      <td>No</td>\n",
       "    </tr>\n",
       "    <tr>\n",
       "      <th>3</th>\n",
       "      <td>9679</td>\n",
       "      <td>Sí</td>\n",
       "    </tr>\n",
       "    <tr>\n",
       "      <th>4</th>\n",
       "      <td>1380</td>\n",
       "      <td>No</td>\n",
       "    </tr>\n",
       "  </tbody>\n",
       "</table>\n",
       "</div>"
      ],
      "text/plain": [
       "   ID_cliente zoop_pay\n",
       "0        6149       No\n",
       "1        9491       Sí\n",
       "2        5288       No\n",
       "3        9679       Sí\n",
       "4        1380       No"
      ]
     },
     "execution_count": 8,
     "metadata": {},
     "output_type": "execute_result"
    }
   ],
   "source": [
    "zoop_pay.head()"
   ]
  },
  {
   "cell_type": "code",
   "execution_count": 9,
   "id": "7f51e6fa",
   "metadata": {},
   "outputs": [
    {
     "data": {
      "text/html": [
       "<div>\n",
       "<style scoped>\n",
       "    .dataframe tbody tr th:only-of-type {\n",
       "        vertical-align: middle;\n",
       "    }\n",
       "\n",
       "    .dataframe tbody tr th {\n",
       "        vertical-align: top;\n",
       "    }\n",
       "\n",
       "    .dataframe thead th {\n",
       "        text-align: right;\n",
       "    }\n",
       "</style>\n",
       "<table border=\"1\" class=\"dataframe\">\n",
       "  <thead>\n",
       "    <tr style=\"text-align: right;\">\n",
       "      <th></th>\n",
       "      <th>ID_cliente</th>\n",
       "      <th>zoop_pay</th>\n",
       "    </tr>\n",
       "  </thead>\n",
       "  <tbody>\n",
       "    <tr>\n",
       "      <th>0</th>\n",
       "      <td>6149</td>\n",
       "      <td>No</td>\n",
       "    </tr>\n",
       "    <tr>\n",
       "      <th>1</th>\n",
       "      <td>9491</td>\n",
       "      <td>Sí</td>\n",
       "    </tr>\n",
       "    <tr>\n",
       "      <th>2</th>\n",
       "      <td>5288</td>\n",
       "      <td>No</td>\n",
       "    </tr>\n",
       "    <tr>\n",
       "      <th>3</th>\n",
       "      <td>9679</td>\n",
       "      <td>Sí</td>\n",
       "    </tr>\n",
       "    <tr>\n",
       "      <th>4</th>\n",
       "      <td>1380</td>\n",
       "      <td>No</td>\n",
       "    </tr>\n",
       "  </tbody>\n",
       "</table>\n",
       "</div>"
      ],
      "text/plain": [
       "   ID_cliente zoop_pay\n",
       "0        6149       No\n",
       "1        9491       Sí\n",
       "2        5288       No\n",
       "3        9679       Sí\n",
       "4        1380       No"
      ]
     },
     "execution_count": 9,
     "metadata": {},
     "output_type": "execute_result"
    }
   ],
   "source": [
    "zoop_pay.head()"
   ]
  },
  {
   "cell_type": "code",
   "execution_count": 10,
   "id": "f246a245",
   "metadata": {},
   "outputs": [
    {
     "name": "stdout",
     "output_type": "stream",
     "text": [
      "<class 'pandas.core.frame.DataFrame'>\n",
      "RangeIndex: 6169 entries, 0 to 6168\n",
      "Data columns (total 8 columns):\n",
      " #   Column           Non-Null Count  Dtype  \n",
      "---  ------           --------------  -----  \n",
      " 0   ID_compra        6169 non-null   int64  \n",
      " 1   fecha            6169 non-null   object \n",
      " 2   horario          6169 non-null   object \n",
      " 3   categoria        6169 non-null   object \n",
      " 4   precio_unitario  6169 non-null   float64\n",
      " 5   cantidad         6169 non-null   int64  \n",
      " 6   envio            6169 non-null   float64\n",
      " 7   metodo_pago      6169 non-null   object \n",
      "dtypes: float64(2), int64(2), object(4)\n",
      "memory usage: 385.7+ KB\n"
     ]
    }
   ],
   "source": [
    "ventas.info()"
   ]
  },
  {
   "cell_type": "code",
   "execution_count": 11,
   "id": "8e017f3b",
   "metadata": {},
   "outputs": [],
   "source": [
    "ventas['fecha'] = pd.to_datetime(ventas['fecha'], format = '%Y-%m-%d')"
   ]
  },
  {
   "cell_type": "markdown",
   "id": "19b49b6f",
   "metadata": {},
   "source": [
    "> #### <strong><font color=\"7b71ff\" size =6>Prompt:</font></strong>\n",
    "\n",
    "Tengo otra tarea, me ayudas?\n",
    "Tengo que concatenar dos bases de datos \"ventas\" y \"compras\" ambos son dataframes, concatenalas y quiero que el orden de las columnas quede de la siguiente manera ID_compra, fecha, horario, cantidad, categoria, precio_unitario, envio, metodo_pago, ID_cliente, ciudad, estado, region, edad, sexo_biologico, cashback, nota"
   ]
  },
  {
   "cell_type": "markdown",
   "id": "37820f18",
   "metadata": {},
   "source": [
    "¡Claro que sí, Luis! Aquí tienes el código para **concatenar los DataFrames `ventas` y `compras`** y reorganizar las columnas en el orden que indicaste:"
   ]
  },
  {
   "cell_type": "code",
   "execution_count": 12,
   "id": "1eef64df",
   "metadata": {},
   "outputs": [],
   "source": [
    "# Concatenación vertical de las bases de datos\n",
    "df = pd.merge(ventas, clientes, on='ID_compra', how='inner')"
   ]
  },
  {
   "cell_type": "code",
   "execution_count": 13,
   "id": "59aab829",
   "metadata": {},
   "outputs": [],
   "source": [
    "# Reordenamiento de columnas según lo solicitado\n",
    "orden_columnas = [\n",
    "    'ID_compra',\n",
    "    'fecha',\n",
    "    'horario',\n",
    "    'cantidad',\n",
    "    'categoria',\n",
    "    'precio_unitario',\n",
    "    'envio',\n",
    "    'metodo_pago',\n",
    "    'ID_cliente',\n",
    "    'ciudad',\n",
    "    'estado',\n",
    "    'region',\n",
    "    'edad',\n",
    "    'sexo_biologico',\n",
    "    'cashback',\n",
    "    'nota'\n",
    "]"
   ]
  },
  {
   "cell_type": "code",
   "execution_count": 14,
   "id": "ff74e77a",
   "metadata": {},
   "outputs": [],
   "source": [
    "# Aplicar el orden al DataFrame final\n",
    "df = df[orden_columnas]"
   ]
  },
  {
   "cell_type": "markdown",
   "id": "cdaa72cf",
   "metadata": {},
   "source": [
    "🔹 Este código asume que las columnas en ambos DataFrames (`ventas` y `compras`) ya están normalizadas y tienen nombres consistentes.\n",
    "\n",
    "🔹 Si algunas columnas no están en ambos DataFrames, Pandas rellenará con `NaN` donde falten valores.\n",
    "\n",
    "¿Quieres que verifiquemos primero si tienen exactamente las mismas columnas antes de concatenar? También puedo ayudarte con eso si lo necesitas.\n"
   ]
  },
  {
   "cell_type": "code",
   "execution_count": 15,
   "id": "0f94ef93",
   "metadata": {},
   "outputs": [
    {
     "data": {
      "text/html": [
       "<div>\n",
       "<style scoped>\n",
       "    .dataframe tbody tr th:only-of-type {\n",
       "        vertical-align: middle;\n",
       "    }\n",
       "\n",
       "    .dataframe tbody tr th {\n",
       "        vertical-align: top;\n",
       "    }\n",
       "\n",
       "    .dataframe thead th {\n",
       "        text-align: right;\n",
       "    }\n",
       "</style>\n",
       "<table border=\"1\" class=\"dataframe\">\n",
       "  <thead>\n",
       "    <tr style=\"text-align: right;\">\n",
       "      <th></th>\n",
       "      <th>ID_compra</th>\n",
       "      <th>fecha</th>\n",
       "      <th>horario</th>\n",
       "      <th>cantidad</th>\n",
       "      <th>categoria</th>\n",
       "      <th>precio_unitario</th>\n",
       "      <th>envio</th>\n",
       "      <th>metodo_pago</th>\n",
       "      <th>ID_cliente</th>\n",
       "      <th>ciudad</th>\n",
       "      <th>estado</th>\n",
       "      <th>region</th>\n",
       "      <th>edad</th>\n",
       "      <th>sexo_biologico</th>\n",
       "      <th>cashback</th>\n",
       "      <th>nota</th>\n",
       "    </tr>\n",
       "  </thead>\n",
       "  <tbody>\n",
       "    <tr>\n",
       "      <th>0</th>\n",
       "      <td>6</td>\n",
       "      <td>2023-01-03</td>\n",
       "      <td>20:40</td>\n",
       "      <td>4</td>\n",
       "      <td>Electrónicos</td>\n",
       "      <td>4457.9</td>\n",
       "      <td>713.26</td>\n",
       "      <td>Paypal</td>\n",
       "      <td>6149</td>\n",
       "      <td>Hermosillo</td>\n",
       "      <td>Sonora</td>\n",
       "      <td>Noroeste</td>\n",
       "      <td>30</td>\n",
       "      <td>Masculino</td>\n",
       "      <td>Sí</td>\n",
       "      <td>10</td>\n",
       "    </tr>\n",
       "    <tr>\n",
       "      <th>1</th>\n",
       "      <td>5</td>\n",
       "      <td>2023-01-03</td>\n",
       "      <td>21:48</td>\n",
       "      <td>1</td>\n",
       "      <td>Herramientas y construcción</td>\n",
       "      <td>115.9</td>\n",
       "      <td>0.00</td>\n",
       "      <td>Transferencia</td>\n",
       "      <td>9491</td>\n",
       "      <td>Ciudad de México</td>\n",
       "      <td>Ciudad de México</td>\n",
       "      <td>Centro</td>\n",
       "      <td>36</td>\n",
       "      <td>Masculino</td>\n",
       "      <td>Sí</td>\n",
       "      <td>8</td>\n",
       "    </tr>\n",
       "    <tr>\n",
       "      <th>2</th>\n",
       "      <td>9</td>\n",
       "      <td>2023-01-03</td>\n",
       "      <td>17:08</td>\n",
       "      <td>2</td>\n",
       "      <td>Belleza e higiene</td>\n",
       "      <td>68.9</td>\n",
       "      <td>13.78</td>\n",
       "      <td>Tarjeta de Crédito</td>\n",
       "      <td>5288</td>\n",
       "      <td>Aguascalientes</td>\n",
       "      <td>Aguascalientes</td>\n",
       "      <td>Centro-Norte</td>\n",
       "      <td>39</td>\n",
       "      <td>Femenino</td>\n",
       "      <td>No</td>\n",
       "      <td>7</td>\n",
       "    </tr>\n",
       "    <tr>\n",
       "      <th>3</th>\n",
       "      <td>4</td>\n",
       "      <td>2023-01-03</td>\n",
       "      <td>14:29</td>\n",
       "      <td>5</td>\n",
       "      <td>Herramientas y construcción</td>\n",
       "      <td>80.9</td>\n",
       "      <td>40.45</td>\n",
       "      <td>Transferencia</td>\n",
       "      <td>9679</td>\n",
       "      <td>Veracruz</td>\n",
       "      <td>Veracruz</td>\n",
       "      <td>Golfo</td>\n",
       "      <td>35</td>\n",
       "      <td>Masculino</td>\n",
       "      <td>Sí</td>\n",
       "      <td>9</td>\n",
       "    </tr>\n",
       "    <tr>\n",
       "      <th>4</th>\n",
       "      <td>8</td>\n",
       "      <td>2023-01-03</td>\n",
       "      <td>18:02</td>\n",
       "      <td>4</td>\n",
       "      <td>Belleza e higiene</td>\n",
       "      <td>165.0</td>\n",
       "      <td>0.00</td>\n",
       "      <td>Transferencia</td>\n",
       "      <td>1380</td>\n",
       "      <td>Ciudad de México</td>\n",
       "      <td>Ciudad de México</td>\n",
       "      <td>Centro</td>\n",
       "      <td>50</td>\n",
       "      <td>Masculino</td>\n",
       "      <td>No</td>\n",
       "      <td>9</td>\n",
       "    </tr>\n",
       "  </tbody>\n",
       "</table>\n",
       "</div>"
      ],
      "text/plain": [
       "   ID_compra      fecha horario  cantidad                    categoria  \\\n",
       "0          6 2023-01-03   20:40         4                 Electrónicos   \n",
       "1          5 2023-01-03   21:48         1  Herramientas y construcción   \n",
       "2          9 2023-01-03   17:08         2            Belleza e higiene   \n",
       "3          4 2023-01-03   14:29         5  Herramientas y construcción   \n",
       "4          8 2023-01-03   18:02         4            Belleza e higiene   \n",
       "\n",
       "   precio_unitario   envio         metodo_pago  ID_cliente            ciudad  \\\n",
       "0           4457.9  713.26              Paypal        6149        Hermosillo   \n",
       "1            115.9    0.00       Transferencia        9491  Ciudad de México   \n",
       "2             68.9   13.78  Tarjeta de Crédito        5288    Aguascalientes   \n",
       "3             80.9   40.45       Transferencia        9679          Veracruz   \n",
       "4            165.0    0.00       Transferencia        1380  Ciudad de México   \n",
       "\n",
       "             estado        region  edad sexo_biologico cashback  nota  \n",
       "0            Sonora      Noroeste    30      Masculino       Sí    10  \n",
       "1  Ciudad de México        Centro    36      Masculino       Sí     8  \n",
       "2    Aguascalientes  Centro-Norte    39       Femenino       No     7  \n",
       "3          Veracruz         Golfo    35      Masculino       Sí     9  \n",
       "4  Ciudad de México        Centro    50      Masculino       No     9  "
      ]
     },
     "execution_count": 15,
     "metadata": {},
     "output_type": "execute_result"
    }
   ],
   "source": [
    "df.head()"
   ]
  },
  {
   "cell_type": "markdown",
   "id": "5ce69038",
   "metadata": {},
   "source": [
    "> #### <strong><font color=\"7b71ff\" size =6>Prompt:</font></strong>\n",
    "\n",
    "Me gusto mucho, ya quedo, ahora quiero que unas el nuevo \"df\" con otro dataframe \"zoop_pay\"."
   ]
  },
  {
   "cell_type": "markdown",
   "id": "5bd144c7",
   "metadata": {},
   "source": [
    "¡Perfecto, Luis! Me alegra saber que ya te quedó bien la unión anterior. Ahora para **unir el nuevo `df` con el DataFrame `zoop_pay`**, primero necesitamos tener claro **cuál es la columna común** entre ellos.\n",
    "\n",
    "---\n",
    "\n",
    "### ✅ Asumamos que la columna común es `ID_compra` (como en los anteriores)\n",
    "\n",
    "Entonces puedes usar este código:\n",
    "\n",
    "```python\n",
    "# Unión de df con zoop_pay usando ID_compra como clave\n",
    "df = pd.merge(df, zoop_pay, on='ID_compra', how='inner')\n",
    "```\n",
    "\n",
    "---\n",
    "\n",
    "### 🔄 Si la columna común es otra, como `ID_cliente` o `metodo_pago`\n",
    "\n",
    "Solo cambia el parámetro `on='otra_columna'`. Por ejemplo:\n",
    "\n",
    "```python\n",
    "# Si la clave es ID_cliente\n",
    "df = pd.merge(df, zoop_pay, on='ID_cliente', how='inner')\n",
    "```\n",
    "\n",
    "---\n",
    "\n",
    "### 🧠 Tip adicional: si quieres conservar toda la información del `df` original aunque no haya coincidencias en `zoop_pay`, usa `how='left'`:\n",
    "\n",
    "```python\n",
    "df = pd.merge(df, zoop_pay, on='ID_compra', how='left')\n",
    "```\n",
    "\n",
    "---\n",
    "\n",
    "¿Quieres que valide si las columnas clave existen en ambos DataFrames antes de hacer la unión? También te puedo ayudar a ver cuántas filas se pierden o ganan después del merge.\n"
   ]
  },
  {
   "cell_type": "code",
   "execution_count": 16,
   "id": "fa817110",
   "metadata": {},
   "outputs": [],
   "source": [
    "df = pd.merge(df, zoop_pay, on='ID_cliente', how='inner')"
   ]
  },
  {
   "cell_type": "code",
   "execution_count": 17,
   "id": "a16eb61f",
   "metadata": {},
   "outputs": [
    {
     "data": {
      "text/html": [
       "<div>\n",
       "<style scoped>\n",
       "    .dataframe tbody tr th:only-of-type {\n",
       "        vertical-align: middle;\n",
       "    }\n",
       "\n",
       "    .dataframe tbody tr th {\n",
       "        vertical-align: top;\n",
       "    }\n",
       "\n",
       "    .dataframe thead th {\n",
       "        text-align: right;\n",
       "    }\n",
       "</style>\n",
       "<table border=\"1\" class=\"dataframe\">\n",
       "  <thead>\n",
       "    <tr style=\"text-align: right;\">\n",
       "      <th></th>\n",
       "      <th>ID_compra</th>\n",
       "      <th>fecha</th>\n",
       "      <th>horario</th>\n",
       "      <th>cantidad</th>\n",
       "      <th>categoria</th>\n",
       "      <th>precio_unitario</th>\n",
       "      <th>envio</th>\n",
       "      <th>metodo_pago</th>\n",
       "      <th>ID_cliente</th>\n",
       "      <th>ciudad</th>\n",
       "      <th>estado</th>\n",
       "      <th>region</th>\n",
       "      <th>edad</th>\n",
       "      <th>sexo_biologico</th>\n",
       "      <th>cashback</th>\n",
       "      <th>nota</th>\n",
       "      <th>zoop_pay</th>\n",
       "    </tr>\n",
       "  </thead>\n",
       "  <tbody>\n",
       "    <tr>\n",
       "      <th>0</th>\n",
       "      <td>6</td>\n",
       "      <td>2023-01-03</td>\n",
       "      <td>20:40</td>\n",
       "      <td>4</td>\n",
       "      <td>Electrónicos</td>\n",
       "      <td>4457.9</td>\n",
       "      <td>713.26</td>\n",
       "      <td>Paypal</td>\n",
       "      <td>6149</td>\n",
       "      <td>Hermosillo</td>\n",
       "      <td>Sonora</td>\n",
       "      <td>Noroeste</td>\n",
       "      <td>30</td>\n",
       "      <td>Masculino</td>\n",
       "      <td>Sí</td>\n",
       "      <td>10</td>\n",
       "      <td>No</td>\n",
       "    </tr>\n",
       "    <tr>\n",
       "      <th>1</th>\n",
       "      <td>5</td>\n",
       "      <td>2023-01-03</td>\n",
       "      <td>21:48</td>\n",
       "      <td>1</td>\n",
       "      <td>Herramientas y construcción</td>\n",
       "      <td>115.9</td>\n",
       "      <td>0.00</td>\n",
       "      <td>Transferencia</td>\n",
       "      <td>9491</td>\n",
       "      <td>Ciudad de México</td>\n",
       "      <td>Ciudad de México</td>\n",
       "      <td>Centro</td>\n",
       "      <td>36</td>\n",
       "      <td>Masculino</td>\n",
       "      <td>Sí</td>\n",
       "      <td>8</td>\n",
       "      <td>Sí</td>\n",
       "    </tr>\n",
       "    <tr>\n",
       "      <th>2</th>\n",
       "      <td>9</td>\n",
       "      <td>2023-01-03</td>\n",
       "      <td>17:08</td>\n",
       "      <td>2</td>\n",
       "      <td>Belleza e higiene</td>\n",
       "      <td>68.9</td>\n",
       "      <td>13.78</td>\n",
       "      <td>Tarjeta de Crédito</td>\n",
       "      <td>5288</td>\n",
       "      <td>Aguascalientes</td>\n",
       "      <td>Aguascalientes</td>\n",
       "      <td>Centro-Norte</td>\n",
       "      <td>39</td>\n",
       "      <td>Femenino</td>\n",
       "      <td>No</td>\n",
       "      <td>7</td>\n",
       "      <td>No</td>\n",
       "    </tr>\n",
       "    <tr>\n",
       "      <th>3</th>\n",
       "      <td>4</td>\n",
       "      <td>2023-01-03</td>\n",
       "      <td>14:29</td>\n",
       "      <td>5</td>\n",
       "      <td>Herramientas y construcción</td>\n",
       "      <td>80.9</td>\n",
       "      <td>40.45</td>\n",
       "      <td>Transferencia</td>\n",
       "      <td>9679</td>\n",
       "      <td>Veracruz</td>\n",
       "      <td>Veracruz</td>\n",
       "      <td>Golfo</td>\n",
       "      <td>35</td>\n",
       "      <td>Masculino</td>\n",
       "      <td>Sí</td>\n",
       "      <td>9</td>\n",
       "      <td>Sí</td>\n",
       "    </tr>\n",
       "    <tr>\n",
       "      <th>4</th>\n",
       "      <td>8</td>\n",
       "      <td>2023-01-03</td>\n",
       "      <td>18:02</td>\n",
       "      <td>4</td>\n",
       "      <td>Belleza e higiene</td>\n",
       "      <td>165.0</td>\n",
       "      <td>0.00</td>\n",
       "      <td>Transferencia</td>\n",
       "      <td>1380</td>\n",
       "      <td>Ciudad de México</td>\n",
       "      <td>Ciudad de México</td>\n",
       "      <td>Centro</td>\n",
       "      <td>50</td>\n",
       "      <td>Masculino</td>\n",
       "      <td>No</td>\n",
       "      <td>9</td>\n",
       "      <td>No</td>\n",
       "    </tr>\n",
       "    <tr>\n",
       "      <th>...</th>\n",
       "      <td>...</td>\n",
       "      <td>...</td>\n",
       "      <td>...</td>\n",
       "      <td>...</td>\n",
       "      <td>...</td>\n",
       "      <td>...</td>\n",
       "      <td>...</td>\n",
       "      <td>...</td>\n",
       "      <td>...</td>\n",
       "      <td>...</td>\n",
       "      <td>...</td>\n",
       "      <td>...</td>\n",
       "      <td>...</td>\n",
       "      <td>...</td>\n",
       "      <td>...</td>\n",
       "      <td>...</td>\n",
       "      <td>...</td>\n",
       "    </tr>\n",
       "    <tr>\n",
       "      <th>6164</th>\n",
       "      <td>6141</td>\n",
       "      <td>2023-12-31</td>\n",
       "      <td>17:49</td>\n",
       "      <td>5</td>\n",
       "      <td>Electrodomésticos</td>\n",
       "      <td>1509.9</td>\n",
       "      <td>377.48</td>\n",
       "      <td>Tarjeta de Crédito</td>\n",
       "      <td>6035</td>\n",
       "      <td>Cholula</td>\n",
       "      <td>Puebla</td>\n",
       "      <td>Centro-Sur</td>\n",
       "      <td>49</td>\n",
       "      <td>Masculino</td>\n",
       "      <td>No</td>\n",
       "      <td>10</td>\n",
       "      <td>No</td>\n",
       "    </tr>\n",
       "    <tr>\n",
       "      <th>6165</th>\n",
       "      <td>6148</td>\n",
       "      <td>2023-12-31</td>\n",
       "      <td>23:02</td>\n",
       "      <td>2</td>\n",
       "      <td>Papelería y oficina</td>\n",
       "      <td>14.0</td>\n",
       "      <td>3.36</td>\n",
       "      <td>Transferencia</td>\n",
       "      <td>7361</td>\n",
       "      <td>Mazatlán</td>\n",
       "      <td>Sinaloa</td>\n",
       "      <td>Noroeste</td>\n",
       "      <td>40</td>\n",
       "      <td>Masculino</td>\n",
       "      <td>Sí</td>\n",
       "      <td>7</td>\n",
       "      <td>No</td>\n",
       "    </tr>\n",
       "    <tr>\n",
       "      <th>6166</th>\n",
       "      <td>6123</td>\n",
       "      <td>2023-12-31</td>\n",
       "      <td>21:25</td>\n",
       "      <td>1</td>\n",
       "      <td>Alimentos y bebidas</td>\n",
       "      <td>77.9</td>\n",
       "      <td>7.79</td>\n",
       "      <td>Tarjeta de Crédito</td>\n",
       "      <td>4516</td>\n",
       "      <td>Aguascalientes</td>\n",
       "      <td>Aguascalientes</td>\n",
       "      <td>Centro-Norte</td>\n",
       "      <td>32</td>\n",
       "      <td>Masculino</td>\n",
       "      <td>No</td>\n",
       "      <td>8</td>\n",
       "      <td>No</td>\n",
       "    </tr>\n",
       "    <tr>\n",
       "      <th>6167</th>\n",
       "      <td>6147</td>\n",
       "      <td>2023-12-31</td>\n",
       "      <td>21:38</td>\n",
       "      <td>4</td>\n",
       "      <td>Libros</td>\n",
       "      <td>142.9</td>\n",
       "      <td>17.15</td>\n",
       "      <td>Tarjeta de Crédito</td>\n",
       "      <td>3786</td>\n",
       "      <td>Guadalajara</td>\n",
       "      <td>Jalisco</td>\n",
       "      <td>Occidente</td>\n",
       "      <td>34</td>\n",
       "      <td>Masculino</td>\n",
       "      <td>No</td>\n",
       "      <td>9</td>\n",
       "      <td>No</td>\n",
       "    </tr>\n",
       "    <tr>\n",
       "      <th>6168</th>\n",
       "      <td>6122</td>\n",
       "      <td>2023-12-31</td>\n",
       "      <td>22:11</td>\n",
       "      <td>5</td>\n",
       "      <td>Belleza e higiene</td>\n",
       "      <td>89.9</td>\n",
       "      <td>13.48</td>\n",
       "      <td>Tarjeta de Crédito</td>\n",
       "      <td>8022</td>\n",
       "      <td>Tlaquepaque</td>\n",
       "      <td>Jalisco</td>\n",
       "      <td>Occidente</td>\n",
       "      <td>20</td>\n",
       "      <td>Femenino</td>\n",
       "      <td>Sí</td>\n",
       "      <td>9</td>\n",
       "      <td>Sí</td>\n",
       "    </tr>\n",
       "  </tbody>\n",
       "</table>\n",
       "<p>6169 rows × 17 columns</p>\n",
       "</div>"
      ],
      "text/plain": [
       "      ID_compra      fecha horario  cantidad                    categoria  \\\n",
       "0             6 2023-01-03   20:40         4                 Electrónicos   \n",
       "1             5 2023-01-03   21:48         1  Herramientas y construcción   \n",
       "2             9 2023-01-03   17:08         2            Belleza e higiene   \n",
       "3             4 2023-01-03   14:29         5  Herramientas y construcción   \n",
       "4             8 2023-01-03   18:02         4            Belleza e higiene   \n",
       "...         ...        ...     ...       ...                          ...   \n",
       "6164       6141 2023-12-31   17:49         5            Electrodomésticos   \n",
       "6165       6148 2023-12-31   23:02         2          Papelería y oficina   \n",
       "6166       6123 2023-12-31   21:25         1          Alimentos y bebidas   \n",
       "6167       6147 2023-12-31   21:38         4                       Libros   \n",
       "6168       6122 2023-12-31   22:11         5            Belleza e higiene   \n",
       "\n",
       "      precio_unitario   envio         metodo_pago  ID_cliente  \\\n",
       "0              4457.9  713.26              Paypal        6149   \n",
       "1               115.9    0.00       Transferencia        9491   \n",
       "2                68.9   13.78  Tarjeta de Crédito        5288   \n",
       "3                80.9   40.45       Transferencia        9679   \n",
       "4               165.0    0.00       Transferencia        1380   \n",
       "...               ...     ...                 ...         ...   \n",
       "6164           1509.9  377.48  Tarjeta de Crédito        6035   \n",
       "6165             14.0    3.36       Transferencia        7361   \n",
       "6166             77.9    7.79  Tarjeta de Crédito        4516   \n",
       "6167            142.9   17.15  Tarjeta de Crédito        3786   \n",
       "6168             89.9   13.48  Tarjeta de Crédito        8022   \n",
       "\n",
       "                ciudad            estado        region  edad sexo_biologico  \\\n",
       "0           Hermosillo            Sonora      Noroeste    30      Masculino   \n",
       "1     Ciudad de México  Ciudad de México        Centro    36      Masculino   \n",
       "2       Aguascalientes    Aguascalientes  Centro-Norte    39       Femenino   \n",
       "3             Veracruz          Veracruz         Golfo    35      Masculino   \n",
       "4     Ciudad de México  Ciudad de México        Centro    50      Masculino   \n",
       "...                ...               ...           ...   ...            ...   \n",
       "6164           Cholula            Puebla    Centro-Sur    49      Masculino   \n",
       "6165          Mazatlán           Sinaloa      Noroeste    40      Masculino   \n",
       "6166    Aguascalientes    Aguascalientes  Centro-Norte    32      Masculino   \n",
       "6167       Guadalajara           Jalisco     Occidente    34      Masculino   \n",
       "6168       Tlaquepaque           Jalisco     Occidente    20       Femenino   \n",
       "\n",
       "     cashback  nota zoop_pay  \n",
       "0          Sí    10       No  \n",
       "1          Sí     8       Sí  \n",
       "2          No     7       No  \n",
       "3          Sí     9       Sí  \n",
       "4          No     9       No  \n",
       "...       ...   ...      ...  \n",
       "6164       No    10       No  \n",
       "6165       Sí     7       No  \n",
       "6166       No     8       No  \n",
       "6167       No     9       No  \n",
       "6168       Sí     9       Sí  \n",
       "\n",
       "[6169 rows x 17 columns]"
      ]
     },
     "execution_count": 17,
     "metadata": {},
     "output_type": "execute_result"
    }
   ],
   "source": [
    "df"
   ]
  },
  {
   "cell_type": "markdown",
   "id": "79ae09c2",
   "metadata": {},
   "source": [
    "# Bloque 2 - generando visualizaciones con respecto a la localización"
   ]
  },
  {
   "cell_type": "markdown",
   "id": "da8b3d94",
   "metadata": {},
   "source": [
    "¿Vamos a practicar lo que aprendimos a partir del DataFrame `df` que generamos en el ejercicio de Manos a la Obra anterior?\n",
    "\n",
    "Has recibido una nueva demanda de Zoop para generar 2 nuevos visuales, uno relacionado con el perfil de las ventas y el otro con el perfil de los clientes de una región específica. Vamos a observar las dos situaciones y construir, con la ayuda de ChatGPT, los dos gráficos solicitados:"
   ]
  },
  {
   "cell_type": "markdown",
   "id": "79b9905c",
   "metadata": {},
   "source": [
    "## Desafío 1:"
   ]
  },
  {
   "cell_type": "markdown",
   "id": "5c99b281",
   "metadata": {},
   "source": [
    "Construye y ejecuta un prompt en ChatGPT para generar, a partir de nuestra base de datos, un visual que muestre el facturación de las ventas por región. Recuerda que aquí la facturación se calcula multiplicando el valor unitario por la cantidad comprada y sumando el costo de envío."
   ]
  },
  {
   "cell_type": "markdown",
   "id": "e63fe10f",
   "metadata": {},
   "source": [
    "> #### <strong><font color=\"7b71ff\" size =6>Prompt:</font></strong>\n",
    "\n",
    "Hola, me puedes ayudar a generar una grafica utilizando seaborn? desde un data frame que se llama df vas a crear la facturacion de ventas por region, para esto tienes que extraer las columnas \"precio_unitario\",\"cantidad\",\"envio\". con estas tres columnas obtendras la facturacion, la cual se hace de la siguiente manera: multiplica el \"precio_unitario\" por la \"cantidad\" y al final le sumas el \"costo\", si estoy equivocado lo corriges.\n",
    "\n",
    "Ya que tengas la facturacion, agregas una nueva columna a df con el nombre \"facturacion\" e ingresas los respectivos datos de facturacion.\n",
    "\n",
    "Despues filtra la facturacion por region (\"region\" la obtienes de df[\"region\"]) y creas una grafica con ese filtro."
   ]
  },
  {
   "cell_type": "markdown",
   "id": "8c03379b",
   "metadata": {},
   "source": [
    "---"
   ]
  },
  {
   "cell_type": "markdown",
   "id": "46ef2618",
   "metadata": {},
   "source": [
    "Claro, Luis, vamos paso por paso. Primero vamos a verificar el cálculo de la facturación y después generamos la gráfica con **Seaborn** para visualizarla **por región**."
   ]
  },
  {
   "cell_type": "markdown",
   "id": "8f8217ae",
   "metadata": {},
   "source": [
    "### ✅ Paso 1: Calcular la facturación"
   ]
  },
  {
   "cell_type": "markdown",
   "id": "e84bc11e",
   "metadata": {},
   "source": [
    "El cálculo que propones es:\n",
    "```Python\n",
    "facturacion = (precio_unitario * cantidad) + envio\n",
    "```"
   ]
  },
  {
   "cell_type": "markdown",
   "id": "9a34c2c5",
   "metadata": {},
   "source": [
    "Este cálculo **es correcto** si el campo `\"envio\"` representa un **costo adicional fijo por compra**, y no un costo por unidad. Si fuera un costo por unidad, tendríamos que multiplicarlo también por `\"cantidad\"`. Pero si no se indica lo contrario, asumiremos que está bien como lo mencionas."
   ]
  },
  {
   "cell_type": "markdown",
   "id": "de1105e4",
   "metadata": {},
   "source": [
    "### ✅ Paso 2: Crear la columna `facturacion` en el DataFrame"
   ]
  },
  {
   "cell_type": "code",
   "execution_count": 18,
   "id": "7bbbe8af",
   "metadata": {},
   "outputs": [],
   "source": [
    "df['facturacion'] = (df['precio_unitario'] * df['cantidad']) + df['envio']"
   ]
  },
  {
   "cell_type": "markdown",
   "id": "746a6db8",
   "metadata": {},
   "source": [
    "### ✅ Paso 3: Agrupar facturación por región"
   ]
  },
  {
   "cell_type": "code",
   "execution_count": 24,
   "id": "7e261441",
   "metadata": {},
   "outputs": [],
   "source": [
    "facturacion_region = df.groupby('region')['facturacion'].sum().sort_values(ascending=False).reset_index()"
   ]
  },
  {
   "cell_type": "code",
   "execution_count": 25,
   "id": "8187a829",
   "metadata": {},
   "outputs": [
    {
     "data": {
      "text/html": [
       "<div>\n",
       "<style scoped>\n",
       "    .dataframe tbody tr th:only-of-type {\n",
       "        vertical-align: middle;\n",
       "    }\n",
       "\n",
       "    .dataframe tbody tr th {\n",
       "        vertical-align: top;\n",
       "    }\n",
       "\n",
       "    .dataframe thead th {\n",
       "        text-align: right;\n",
       "    }\n",
       "</style>\n",
       "<table border=\"1\" class=\"dataframe\">\n",
       "  <thead>\n",
       "    <tr style=\"text-align: right;\">\n",
       "      <th></th>\n",
       "      <th>region</th>\n",
       "      <th>facturacion</th>\n",
       "    </tr>\n",
       "  </thead>\n",
       "  <tbody>\n",
       "    <tr>\n",
       "      <th>0</th>\n",
       "      <td>Centro</td>\n",
       "      <td>3892973.39</td>\n",
       "    </tr>\n",
       "    <tr>\n",
       "      <th>1</th>\n",
       "      <td>Noroeste</td>\n",
       "      <td>3675610.54</td>\n",
       "    </tr>\n",
       "    <tr>\n",
       "      <th>2</th>\n",
       "      <td>Noreste</td>\n",
       "      <td>2714735.12</td>\n",
       "    </tr>\n",
       "    <tr>\n",
       "      <th>3</th>\n",
       "      <td>Centro-Norte</td>\n",
       "      <td>1402610.45</td>\n",
       "    </tr>\n",
       "    <tr>\n",
       "      <th>4</th>\n",
       "      <td>Occidente</td>\n",
       "      <td>1362102.38</td>\n",
       "    </tr>\n",
       "    <tr>\n",
       "      <th>5</th>\n",
       "      <td>Centro-Sur</td>\n",
       "      <td>1317884.94</td>\n",
       "    </tr>\n",
       "    <tr>\n",
       "      <th>6</th>\n",
       "      <td>Golfo</td>\n",
       "      <td>1112592.94</td>\n",
       "    </tr>\n",
       "    <tr>\n",
       "      <th>7</th>\n",
       "      <td>Sur</td>\n",
       "      <td>819569.61</td>\n",
       "    </tr>\n",
       "    <tr>\n",
       "      <th>8</th>\n",
       "      <td>Sureste</td>\n",
       "      <td>680928.14</td>\n",
       "    </tr>\n",
       "  </tbody>\n",
       "</table>\n",
       "</div>"
      ],
      "text/plain": [
       "         region  facturacion\n",
       "0        Centro   3892973.39\n",
       "1      Noroeste   3675610.54\n",
       "2       Noreste   2714735.12\n",
       "3  Centro-Norte   1402610.45\n",
       "4     Occidente   1362102.38\n",
       "5    Centro-Sur   1317884.94\n",
       "6         Golfo   1112592.94\n",
       "7           Sur    819569.61\n",
       "8       Sureste    680928.14"
      ]
     },
     "execution_count": 25,
     "metadata": {},
     "output_type": "execute_result"
    }
   ],
   "source": [
    "facturacion_region"
   ]
  },
  {
   "cell_type": "markdown",
   "id": "cdb4288b",
   "metadata": {},
   "source": [
    "Esto te dará un DataFrame como este:\n",
    "\n",
    "| region | facturacion |\n",
    "| ------ | ----------- |\n",
    "| Norte  | 102300      |\n",
    "| Centro | 87500       |\n",
    "| Sur    | 90320       |"
   ]
  },
  {
   "cell_type": "markdown",
   "id": "02b70e21",
   "metadata": {},
   "source": [
    "### ✅ Paso 4: Graficar con Seaborn"
   ]
  },
  {
   "cell_type": "code",
   "execution_count": 38,
   "id": "f6df22e5",
   "metadata": {},
   "outputs": [
    {
     "data": {
      "image/png": "[encoded data removed]",
      "text/plain": [
       "<Figure size 1000x600 with 1 Axes>"
      ]
     },
     "metadata": {},
     "output_type": "display_data"
    }
   ],
   "source": [
    "# Estilo general\n",
    "sns.set(style=\"whitegrid\")\n",
    "plt.figure(figsize=(10, 6))\n",
    "ax = sns.barplot(data=facturacion_region, x='region', y='facturacion', hue='region', palette='Blues_d', legend=False)\n",
    "\n",
    "# Agregar etiquetas con valores encima de cada barra\n",
    "for container in ax.containers:\n",
    "    ax.bar_label(container, fmt='%.2f', label_type='edge', padding=3)\n",
    "\n",
    "plt.title('Facturación total por región')\n",
    "plt.xlabel('Región')\n",
    "plt.ylabel('Facturación')\n",
    "plt.xticks(rotation=45)\n",
    "plt.tight_layout()\n",
    "plt.show()"
   ]
  },
  {
   "cell_type": "markdown",
   "id": "050bd6f4",
   "metadata": {},
   "source": [
    "<!-- ### ✅ Resultado\n",
    "\n",
    "Tendrás un gráfico de barras con una barra por cada región, mostrando la **facturación total**.\n",
    "\n",
    "¿Quieres que ordene las regiones de mayor a menor facturación o lo dejamos en orden alfabético? También podríamos añadir etiquetas de valores encima de cada barra si deseas. -->\n"
   ]
  },
  {
   "cell_type": "markdown",
   "id": "97379908",
   "metadata": {},
   "source": [
    "### 🏷️ Paso para agregar etiquetas encima de las barras:"
   ]
  },
  {
   "cell_type": "markdown",
   "id": "55f4ce0b",
   "metadata": {},
   "source": [
    "- ``fmt='%.2f'``: muestra los valores con 2 decimales.\n",
    "\n",
    "- ``label_type='edge'``: coloca las etiquetas encima de las barras.\n",
    "\n",
    "- ``padding=3``: separa un poco el texto de la barra para que se vea mejor."
   ]
  },
  {
   "cell_type": "markdown",
   "id": "be73dc9b",
   "metadata": {},
   "source": [
    "## Desafío 2:"
   ]
  },
  {
   "cell_type": "markdown",
   "id": "fdd98dca",
   "metadata": {},
   "source": [
    "Zoop quiere realizar una campaña en los estados de México y Puebla, por lo que necesita conocer el perfil de su público según el sexo biológico. Construye y ejecuta un prompt en ChatGPT para generar, a partir de nuestra base de datos, un visual que muestre la composición del público por sexo biológico en los estados de México y Puebla. Recuerda pedir que agrupe o apile los datos para la presentación."
   ]
  },
  {
   "cell_type": "markdown",
   "id": "5d0fa7f1",
   "metadata": {},
   "source": [
    "Si necesitas ayuda, una opción de solución de la actividad estará disponible en la sección “Opinión del instructor”."
   ]
  },
  {
   "cell_type": "markdown",
   "id": "cc7849b8",
   "metadata": {},
   "source": [
    "### Obten un dato especifico de una columna"
   ]
  },
  {
   "cell_type": "markdown",
   "id": "1d42e68d",
   "metadata": {},
   "source": [
    "Si queremos obtener los datos de puebla de la columna estado utilizamos la siguiente linea de código"
   ]
  },
  {
   "cell_type": "code",
   "execution_count": 44,
   "id": "e87db114",
   "metadata": {},
   "outputs": [
    {
     "data": {
      "text/html": [
       "<div>\n",
       "<style scoped>\n",
       "    .dataframe tbody tr th:only-of-type {\n",
       "        vertical-align: middle;\n",
       "    }\n",
       "\n",
       "    .dataframe tbody tr th {\n",
       "        vertical-align: top;\n",
       "    }\n",
       "\n",
       "    .dataframe thead th {\n",
       "        text-align: right;\n",
       "    }\n",
       "</style>\n",
       "<table border=\"1\" class=\"dataframe\">\n",
       "  <thead>\n",
       "    <tr style=\"text-align: right;\">\n",
       "      <th></th>\n",
       "      <th>ID_compra</th>\n",
       "      <th>fecha</th>\n",
       "      <th>horario</th>\n",
       "      <th>cantidad</th>\n",
       "      <th>categoria</th>\n",
       "      <th>precio_unitario</th>\n",
       "      <th>envio</th>\n",
       "      <th>metodo_pago</th>\n",
       "      <th>ID_cliente</th>\n",
       "      <th>ciudad</th>\n",
       "      <th>estado</th>\n",
       "      <th>region</th>\n",
       "      <th>edad</th>\n",
       "      <th>sexo_biologico</th>\n",
       "      <th>cashback</th>\n",
       "      <th>nota</th>\n",
       "      <th>zoop_pay</th>\n",
       "      <th>facturacion</th>\n",
       "    </tr>\n",
       "  </thead>\n",
       "  <tbody>\n",
       "    <tr>\n",
       "      <th>4355</th>\n",
       "      <td>4344</td>\n",
       "      <td>2023-11-14</td>\n",
       "      <td>17:40</td>\n",
       "      <td>1</td>\n",
       "      <td>Alimentos y bebidas</td>\n",
       "      <td>6.9</td>\n",
       "      <td>0.41</td>\n",
       "      <td>Paypal</td>\n",
       "      <td>8820</td>\n",
       "      <td>Cholula</td>\n",
       "      <td>Puebla</td>\n",
       "      <td>Centro-Sur</td>\n",
       "      <td>41</td>\n",
       "      <td>Masculino</td>\n",
       "      <td>No</td>\n",
       "      <td>10</td>\n",
       "      <td>No</td>\n",
       "      <td>7.31</td>\n",
       "    </tr>\n",
       "  </tbody>\n",
       "</table>\n",
       "</div>"
      ],
      "text/plain": [
       "      ID_compra      fecha horario  cantidad            categoria  \\\n",
       "4355       4344 2023-11-14   17:40         1  Alimentos y bebidas   \n",
       "\n",
       "      precio_unitario  envio metodo_pago  ID_cliente   ciudad  estado  \\\n",
       "4355              6.9   0.41      Paypal        8820  Cholula  Puebla   \n",
       "\n",
       "          region  edad sexo_biologico cashback  nota zoop_pay  facturacion  \n",
       "4355  Centro-Sur    41      Masculino       No    10       No         7.31  "
      ]
     },
     "execution_count": 44,
     "metadata": {},
     "output_type": "execute_result"
    }
   ],
   "source": [
    "df[df['estado'] == 'Puebla'].sample()"
   ]
  },
  {
   "cell_type": "markdown",
   "id": "776a0105",
   "metadata": {},
   "source": [
    "> #### <strong><font color=\"7b71ff\" size =6>Prompt:</font></strong>\n",
    "\n",
    "Por favor, puedes ayudarme a generar una grafica con seaborn en el que muestre la composicion del público por sexo biológico en los estados de México y Puebla, puedes agruparlos y apilar los datos para la grafica?\n",
    "\n",
    "las columnas a utilizar son:\n",
    "df[\"sexo_biologico\"]\n",
    "df[\"estado\"]\n",
    "y si es necesario especificar utiliza df[df['estado'] == 'Puebla']"
   ]
  },
  {
   "cell_type": "markdown",
   "id": "826f10f1",
   "metadata": {},
   "source": [
    "\n",
    "---\n",
    "\n",
    "¡Con gusto! Te muestro cómo crear una **gráfica de barras apiladas con Seaborn** (o más bien, con ayuda de **matplotlib**, porque Seaborn no admite barras apiladas directamente) para mostrar la **composición del público por sexo biológico** en los estados **México** y **Puebla**."
   ]
  },
  {
   "cell_type": "markdown",
   "id": "6fb9274e",
   "metadata": {},
   "source": [
    "### ✅ Paso 1: Filtrar y agrupar los datos"
   ]
  },
  {
   "cell_type": "markdown",
   "id": "ce290cd7",
   "metadata": {},
   "source": [
    "Primero, filtramos los estados de interés y contamos cuántas personas hay por sexo biológico en cada uno:"
   ]
  },
  {
   "cell_type": "code",
   "execution_count": 53,
   "id": "6d746bee",
   "metadata": {},
   "outputs": [],
   "source": [
    "# Filtrar solo los estados México y Puebla\n",
    "df_filtrado = df[df['estado'].isin(['Estado de México', 'Puebla'])]"
   ]
  },
  {
   "cell_type": "code",
   "execution_count": 52,
   "id": "baac99dd",
   "metadata": {},
   "outputs": [
    {
     "data": {
      "text/plain": [
       "array(['Sonora', 'Ciudad de México', 'Aguascalientes', 'Veracruz',\n",
       "       'Chihuahua', 'Nuevo León', 'Puebla', 'Oaxaca', 'Sinaloa',\n",
       "       'Coahuila', 'Baja California', 'Estado de México', 'Morelos',\n",
       "       'Guanajuato', 'Jalisco', 'Durango', 'Yucatán', 'Querétaro',\n",
       "       'Quintana Roo', 'Tamaulipas', 'Hidalgo', 'Nayarit', 'Zacatecas',\n",
       "       'San Luis Potosí', 'Tabasco', 'Chiapas', 'Michoacán', 'Campeche'],\n",
       "      dtype=object)"
      ]
     },
     "execution_count": 52,
     "metadata": {},
     "output_type": "execute_result"
    }
   ],
   "source": [
    "df['estado'].unique()"
   ]
  },
  {
   "cell_type": "code",
   "execution_count": 54,
   "id": "1fd1bb20",
   "metadata": {},
   "outputs": [],
   "source": [
    "# Agrupar por estado y sexo biológico, y contar\n",
    "conteo = df_filtrado.groupby(['estado', 'sexo_biologico']).size().unstack(fill_value=0)"
   ]
  },
  {
   "cell_type": "markdown",
   "id": "a3bee4b4",
   "metadata": {},
   "source": [
    "### ✅ Paso 2: Crear gráfico de barras apiladas"
   ]
  },
  {
   "cell_type": "code",
   "execution_count": 57,
   "id": "86f98574",
   "metadata": {},
   "outputs": [
    {
     "data": {
      "text/plain": [
       "['magma',\n",
       " 'inferno',\n",
       " 'plasma',\n",
       " 'viridis',\n",
       " 'cividis',\n",
       " 'twilight',\n",
       " 'twilight_shifted',\n",
       " 'turbo',\n",
       " 'berlin',\n",
       " 'managua',\n",
       " 'vanimo',\n",
       " 'Blues',\n",
       " 'BrBG',\n",
       " 'BuGn',\n",
       " 'BuPu',\n",
       " 'CMRmap',\n",
       " 'GnBu',\n",
       " 'Greens',\n",
       " 'Greys',\n",
       " 'OrRd',\n",
       " 'Oranges',\n",
       " 'PRGn',\n",
       " 'PiYG',\n",
       " 'PuBu',\n",
       " 'PuBuGn',\n",
       " 'PuOr',\n",
       " 'PuRd',\n",
       " 'Purples',\n",
       " 'RdBu',\n",
       " 'RdGy',\n",
       " 'RdPu',\n",
       " 'RdYlBu',\n",
       " 'RdYlGn',\n",
       " 'Reds',\n",
       " 'Spectral',\n",
       " 'Wistia',\n",
       " 'YlGn',\n",
       " 'YlGnBu',\n",
       " 'YlOrBr',\n",
       " 'YlOrRd',\n",
       " 'afmhot',\n",
       " 'autumn',\n",
       " 'binary',\n",
       " 'bone',\n",
       " 'brg',\n",
       " 'bwr',\n",
       " 'cool',\n",
       " 'coolwarm',\n",
       " 'copper',\n",
       " 'cubehelix',\n",
       " 'flag',\n",
       " 'gist_earth',\n",
       " 'gist_gray',\n",
       " 'gist_heat',\n",
       " 'gist_ncar',\n",
       " 'gist_rainbow',\n",
       " 'gist_stern',\n",
       " 'gist_yarg',\n",
       " 'gnuplot',\n",
       " 'gnuplot2',\n",
       " 'gray',\n",
       " 'hot',\n",
       " 'hsv',\n",
       " 'jet',\n",
       " 'nipy_spectral',\n",
       " 'ocean',\n",
       " 'pink',\n",
       " 'prism',\n",
       " 'rainbow',\n",
       " 'seismic',\n",
       " 'spring',\n",
       " 'summer',\n",
       " 'terrain',\n",
       " 'winter',\n",
       " 'Accent',\n",
       " 'Dark2',\n",
       " 'Paired',\n",
       " 'Pastel1',\n",
       " 'Pastel2',\n",
       " 'Set1',\n",
       " 'Set2',\n",
       " 'Set3',\n",
       " 'tab10',\n",
       " 'tab20',\n",
       " 'tab20b',\n",
       " 'tab20c',\n",
       " 'grey',\n",
       " 'gist_grey',\n",
       " 'gist_yerg',\n",
       " 'Grays',\n",
       " 'magma_r',\n",
       " 'inferno_r',\n",
       " 'plasma_r',\n",
       " 'viridis_r',\n",
       " 'cividis_r',\n",
       " 'twilight_r',\n",
       " 'twilight_shifted_r',\n",
       " 'turbo_r',\n",
       " 'berlin_r',\n",
       " 'managua_r',\n",
       " 'vanimo_r',\n",
       " 'Blues_r',\n",
       " 'BrBG_r',\n",
       " 'BuGn_r',\n",
       " 'BuPu_r',\n",
       " 'CMRmap_r',\n",
       " 'GnBu_r',\n",
       " 'Greens_r',\n",
       " 'Greys_r',\n",
       " 'OrRd_r',\n",
       " 'Oranges_r',\n",
       " 'PRGn_r',\n",
       " 'PiYG_r',\n",
       " 'PuBu_r',\n",
       " 'PuBuGn_r',\n",
       " 'PuOr_r',\n",
       " 'PuRd_r',\n",
       " 'Purples_r',\n",
       " 'RdBu_r',\n",
       " 'RdGy_r',\n",
       " 'RdPu_r',\n",
       " 'RdYlBu_r',\n",
       " 'RdYlGn_r',\n",
       " 'Reds_r',\n",
       " 'Spectral_r',\n",
       " 'Wistia_r',\n",
       " 'YlGn_r',\n",
       " 'YlGnBu_r',\n",
       " 'YlOrBr_r',\n",
       " 'YlOrRd_r',\n",
       " 'afmhot_r',\n",
       " 'autumn_r',\n",
       " 'binary_r',\n",
       " 'bone_r',\n",
       " 'brg_r',\n",
       " 'bwr_r',\n",
       " 'cool_r',\n",
       " 'coolwarm_r',\n",
       " 'copper_r',\n",
       " 'cubehelix_r',\n",
       " 'flag_r',\n",
       " 'gist_earth_r',\n",
       " 'gist_gray_r',\n",
       " 'gist_heat_r',\n",
       " 'gist_ncar_r',\n",
       " 'gist_rainbow_r',\n",
       " 'gist_stern_r',\n",
       " 'gist_yarg_r',\n",
       " 'gnuplot_r',\n",
       " 'gnuplot2_r',\n",
       " 'gray_r',\n",
       " 'hot_r',\n",
       " 'hsv_r',\n",
       " 'jet_r',\n",
       " 'nipy_spectral_r',\n",
       " 'ocean_r',\n",
       " 'pink_r',\n",
       " 'prism_r',\n",
       " 'rainbow_r',\n",
       " 'seismic_r',\n",
       " 'spring_r',\n",
       " 'summer_r',\n",
       " 'terrain_r',\n",
       " 'winter_r',\n",
       " 'Accent_r',\n",
       " 'Dark2_r',\n",
       " 'Paired_r',\n",
       " 'Pastel1_r',\n",
       " 'Pastel2_r',\n",
       " 'Set1_r',\n",
       " 'Set2_r',\n",
       " 'Set3_r',\n",
       " 'tab10_r',\n",
       " 'tab20_r',\n",
       " 'tab20b_r',\n",
       " 'tab20c_r',\n",
       " 'grey_r',\n",
       " 'gist_grey_r',\n",
       " 'gist_yerg_r',\n",
       " 'Grays_r',\n",
       " 'rocket',\n",
       " 'rocket_r',\n",
       " 'mako',\n",
       " 'mako_r',\n",
       " 'icefire',\n",
       " 'icefire_r',\n",
       " 'vlag',\n",
       " 'vlag_r',\n",
       " 'flare',\n",
       " 'flare_r',\n",
       " 'crest',\n",
       " 'crest_r']"
      ]
     },
     "execution_count": 57,
     "metadata": {},
     "output_type": "execute_result"
    }
   ],
   "source": [
    "from matplotlib import colormaps\n",
    "list(colormaps)"
   ]
  },
  {
   "cell_type": "code",
   "execution_count": 71,
   "id": "f3b8c93b",
   "metadata": {},
   "outputs": [
    {
     "data": {
      "image/png": "[encoded data removed]",
      "text/plain": [
       "<Figure size 800x600 with 1 Axes>"
      ]
     },
     "metadata": {},
     "output_type": "display_data"
    }
   ],
   "source": [
    "# Crear gráfico de barras apiladas\n",
    "conteo.plot(kind='bar', stacked=True, figsize=(8, 6), colormap='crest_r')\n",
    "\n",
    "plt.title('Composición por Sexo Biológico en México y Puebla')\n",
    "plt.xlabel('Estado')\n",
    "plt.ylabel('Número de Personas')\n",
    "plt.legend(title='Sexo biológico')\n",
    "plt.tight_layout()\n",
    "plt.show()"
   ]
  },
  {
   "cell_type": "markdown",
   "id": "95dfa1ba",
   "metadata": {},
   "source": [
    "### 🔍 Resultado:\n",
    "\n",
    "Esto te dará un gráfico con **barras apiladas**: una para **México** y otra para **Puebla**, donde cada segmento de color representa un valor de `sexo_biologico`.\n",
    "\n",
    "Si prefieres los porcentajes (por ejemplo: 70% hombres, 30% mujeres), también puedo ayudarte con eso. ¿Lo quieres por **porcentaje** en lugar de **conteo**?"
   ]
  },
  {
   "cell_type": "markdown",
   "id": "261ef52c",
   "metadata": {},
   "source": [
    "# Bloque 3 - perfil de los clientes"
   ]
  },
  {
   "cell_type": "markdown",
   "id": "3898f913",
   "metadata": {},
   "source": [
    "Volviendo a nuestro proyecto de Manos a la Obra, logramos generar dos visualizaciones más con los datos de nuestros desafíos.\n",
    "\n",
    "¿Ahora, vamos a crear otros visuales enfocados en el perfil de nuestros clientes?\n",
    "\n",
    "Has recibido una nueva solicitud de Zoop para generar 2 visuales, siendo uno de ellos relacionado al registro de clientes para un nuevo servicio que Zoop implementará, el Zoop Pay, y el otro sobre las evaluaciones de los clientes en relación con su ubicación. Observemos las dos situaciones y construyamos con la ayuda de ChatGPT los dos gráficos solicitados:"
   ]
  },
  {
   "cell_type": "code",
   "execution_count": 73,
   "id": "f8603e20",
   "metadata": {},
   "outputs": [
    {
     "data": {
      "text/html": [
       "<div>\n",
       "<style scoped>\n",
       "    .dataframe tbody tr th:only-of-type {\n",
       "        vertical-align: middle;\n",
       "    }\n",
       "\n",
       "    .dataframe tbody tr th {\n",
       "        vertical-align: top;\n",
       "    }\n",
       "\n",
       "    .dataframe thead th {\n",
       "        text-align: right;\n",
       "    }\n",
       "</style>\n",
       "<table border=\"1\" class=\"dataframe\">\n",
       "  <thead>\n",
       "    <tr style=\"text-align: right;\">\n",
       "      <th></th>\n",
       "      <th>ID_compra</th>\n",
       "      <th>fecha</th>\n",
       "      <th>horario</th>\n",
       "      <th>cantidad</th>\n",
       "      <th>categoria</th>\n",
       "      <th>precio_unitario</th>\n",
       "      <th>envio</th>\n",
       "      <th>metodo_pago</th>\n",
       "      <th>ID_cliente</th>\n",
       "      <th>ciudad</th>\n",
       "      <th>estado</th>\n",
       "      <th>region</th>\n",
       "      <th>edad</th>\n",
       "      <th>sexo_biologico</th>\n",
       "      <th>cashback</th>\n",
       "      <th>nota</th>\n",
       "      <th>zoop_pay</th>\n",
       "      <th>facturacion</th>\n",
       "    </tr>\n",
       "  </thead>\n",
       "  <tbody>\n",
       "    <tr>\n",
       "      <th>0</th>\n",
       "      <td>6</td>\n",
       "      <td>2023-01-03</td>\n",
       "      <td>20:40</td>\n",
       "      <td>4</td>\n",
       "      <td>Electrónicos</td>\n",
       "      <td>4457.9</td>\n",
       "      <td>713.26</td>\n",
       "      <td>Paypal</td>\n",
       "      <td>6149</td>\n",
       "      <td>Hermosillo</td>\n",
       "      <td>Sonora</td>\n",
       "      <td>Noroeste</td>\n",
       "      <td>30</td>\n",
       "      <td>Masculino</td>\n",
       "      <td>Sí</td>\n",
       "      <td>10</td>\n",
       "      <td>No</td>\n",
       "      <td>18544.86</td>\n",
       "    </tr>\n",
       "    <tr>\n",
       "      <th>1</th>\n",
       "      <td>5</td>\n",
       "      <td>2023-01-03</td>\n",
       "      <td>21:48</td>\n",
       "      <td>1</td>\n",
       "      <td>Herramientas y construcción</td>\n",
       "      <td>115.9</td>\n",
       "      <td>0.00</td>\n",
       "      <td>Transferencia</td>\n",
       "      <td>9491</td>\n",
       "      <td>Ciudad de México</td>\n",
       "      <td>Ciudad de México</td>\n",
       "      <td>Centro</td>\n",
       "      <td>36</td>\n",
       "      <td>Masculino</td>\n",
       "      <td>Sí</td>\n",
       "      <td>8</td>\n",
       "      <td>Sí</td>\n",
       "      <td>115.90</td>\n",
       "    </tr>\n",
       "    <tr>\n",
       "      <th>2</th>\n",
       "      <td>9</td>\n",
       "      <td>2023-01-03</td>\n",
       "      <td>17:08</td>\n",
       "      <td>2</td>\n",
       "      <td>Belleza e higiene</td>\n",
       "      <td>68.9</td>\n",
       "      <td>13.78</td>\n",
       "      <td>Tarjeta de Crédito</td>\n",
       "      <td>5288</td>\n",
       "      <td>Aguascalientes</td>\n",
       "      <td>Aguascalientes</td>\n",
       "      <td>Centro-Norte</td>\n",
       "      <td>39</td>\n",
       "      <td>Femenino</td>\n",
       "      <td>No</td>\n",
       "      <td>7</td>\n",
       "      <td>No</td>\n",
       "      <td>151.58</td>\n",
       "    </tr>\n",
       "    <tr>\n",
       "      <th>3</th>\n",
       "      <td>4</td>\n",
       "      <td>2023-01-03</td>\n",
       "      <td>14:29</td>\n",
       "      <td>5</td>\n",
       "      <td>Herramientas y construcción</td>\n",
       "      <td>80.9</td>\n",
       "      <td>40.45</td>\n",
       "      <td>Transferencia</td>\n",
       "      <td>9679</td>\n",
       "      <td>Veracruz</td>\n",
       "      <td>Veracruz</td>\n",
       "      <td>Golfo</td>\n",
       "      <td>35</td>\n",
       "      <td>Masculino</td>\n",
       "      <td>Sí</td>\n",
       "      <td>9</td>\n",
       "      <td>Sí</td>\n",
       "      <td>444.95</td>\n",
       "    </tr>\n",
       "    <tr>\n",
       "      <th>4</th>\n",
       "      <td>8</td>\n",
       "      <td>2023-01-03</td>\n",
       "      <td>18:02</td>\n",
       "      <td>4</td>\n",
       "      <td>Belleza e higiene</td>\n",
       "      <td>165.0</td>\n",
       "      <td>0.00</td>\n",
       "      <td>Transferencia</td>\n",
       "      <td>1380</td>\n",
       "      <td>Ciudad de México</td>\n",
       "      <td>Ciudad de México</td>\n",
       "      <td>Centro</td>\n",
       "      <td>50</td>\n",
       "      <td>Masculino</td>\n",
       "      <td>No</td>\n",
       "      <td>9</td>\n",
       "      <td>No</td>\n",
       "      <td>660.00</td>\n",
       "    </tr>\n",
       "    <tr>\n",
       "      <th>5</th>\n",
       "      <td>2</td>\n",
       "      <td>2023-01-03</td>\n",
       "      <td>18:42</td>\n",
       "      <td>5</td>\n",
       "      <td>Electrónicos</td>\n",
       "      <td>5747.9</td>\n",
       "      <td>1724.37</td>\n",
       "      <td>Transferencia</td>\n",
       "      <td>2771</td>\n",
       "      <td>Chihuahua</td>\n",
       "      <td>Chihuahua</td>\n",
       "      <td>Noroeste</td>\n",
       "      <td>45</td>\n",
       "      <td>Masculino</td>\n",
       "      <td>No</td>\n",
       "      <td>10</td>\n",
       "      <td>No</td>\n",
       "      <td>30463.87</td>\n",
       "    </tr>\n",
       "    <tr>\n",
       "      <th>6</th>\n",
       "      <td>3</td>\n",
       "      <td>2023-01-03</td>\n",
       "      <td>23:47</td>\n",
       "      <td>5</td>\n",
       "      <td>Alimentos y bebidas</td>\n",
       "      <td>84.9</td>\n",
       "      <td>0.00</td>\n",
       "      <td>Tarjeta de Crédito</td>\n",
       "      <td>1960</td>\n",
       "      <td>Ciudad de México</td>\n",
       "      <td>Ciudad de México</td>\n",
       "      <td>Centro</td>\n",
       "      <td>35</td>\n",
       "      <td>Femenino</td>\n",
       "      <td>No</td>\n",
       "      <td>10</td>\n",
       "      <td>No</td>\n",
       "      <td>424.50</td>\n",
       "    </tr>\n",
       "    <tr>\n",
       "      <th>7</th>\n",
       "      <td>1</td>\n",
       "      <td>2023-01-03</td>\n",
       "      <td>00:13</td>\n",
       "      <td>1</td>\n",
       "      <td>Electrodomésticos</td>\n",
       "      <td>3465.9</td>\n",
       "      <td>138.64</td>\n",
       "      <td>Transferencia</td>\n",
       "      <td>5146</td>\n",
       "      <td>Monterrey</td>\n",
       "      <td>Nuevo León</td>\n",
       "      <td>Noreste</td>\n",
       "      <td>43</td>\n",
       "      <td>Femenino</td>\n",
       "      <td>No</td>\n",
       "      <td>8</td>\n",
       "      <td>No</td>\n",
       "      <td>3604.54</td>\n",
       "    </tr>\n",
       "    <tr>\n",
       "      <th>8</th>\n",
       "      <td>7</td>\n",
       "      <td>2023-01-03</td>\n",
       "      <td>17:40</td>\n",
       "      <td>5</td>\n",
       "      <td>Libros</td>\n",
       "      <td>75.9</td>\n",
       "      <td>18.98</td>\n",
       "      <td>Tarjeta de Crédito</td>\n",
       "      <td>3106</td>\n",
       "      <td>Puebla de Zaragoza</td>\n",
       "      <td>Puebla</td>\n",
       "      <td>Centro-Sur</td>\n",
       "      <td>35</td>\n",
       "      <td>Masculino</td>\n",
       "      <td>No</td>\n",
       "      <td>10</td>\n",
       "      <td>No</td>\n",
       "      <td>398.48</td>\n",
       "    </tr>\n",
       "    <tr>\n",
       "      <th>9</th>\n",
       "      <td>11</td>\n",
       "      <td>2023-01-04</td>\n",
       "      <td>21:50</td>\n",
       "      <td>5</td>\n",
       "      <td>Casa y aseo</td>\n",
       "      <td>13.9</td>\n",
       "      <td>3.48</td>\n",
       "      <td>Transferencia</td>\n",
       "      <td>8765</td>\n",
       "      <td>Oaxaca de Juárez</td>\n",
       "      <td>Oaxaca</td>\n",
       "      <td>Sur</td>\n",
       "      <td>32</td>\n",
       "      <td>Femenino</td>\n",
       "      <td>Sí</td>\n",
       "      <td>9</td>\n",
       "      <td>No</td>\n",
       "      <td>72.98</td>\n",
       "    </tr>\n",
       "  </tbody>\n",
       "</table>\n",
       "</div>"
      ],
      "text/plain": [
       "   ID_compra      fecha horario  cantidad                    categoria  \\\n",
       "0          6 2023-01-03   20:40         4                 Electrónicos   \n",
       "1          5 2023-01-03   21:48         1  Herramientas y construcción   \n",
       "2          9 2023-01-03   17:08         2            Belleza e higiene   \n",
       "3          4 2023-01-03   14:29         5  Herramientas y construcción   \n",
       "4          8 2023-01-03   18:02         4            Belleza e higiene   \n",
       "5          2 2023-01-03   18:42         5                 Electrónicos   \n",
       "6          3 2023-01-03   23:47         5          Alimentos y bebidas   \n",
       "7          1 2023-01-03   00:13         1            Electrodomésticos   \n",
       "8          7 2023-01-03   17:40         5                       Libros   \n",
       "9         11 2023-01-04   21:50         5                  Casa y aseo   \n",
       "\n",
       "   precio_unitario    envio         metodo_pago  ID_cliente  \\\n",
       "0           4457.9   713.26              Paypal        6149   \n",
       "1            115.9     0.00       Transferencia        9491   \n",
       "2             68.9    13.78  Tarjeta de Crédito        5288   \n",
       "3             80.9    40.45       Transferencia        9679   \n",
       "4            165.0     0.00       Transferencia        1380   \n",
       "5           5747.9  1724.37       Transferencia        2771   \n",
       "6             84.9     0.00  Tarjeta de Crédito        1960   \n",
       "7           3465.9   138.64       Transferencia        5146   \n",
       "8             75.9    18.98  Tarjeta de Crédito        3106   \n",
       "9             13.9     3.48       Transferencia        8765   \n",
       "\n",
       "               ciudad            estado        region  edad sexo_biologico  \\\n",
       "0          Hermosillo            Sonora      Noroeste    30      Masculino   \n",
       "1    Ciudad de México  Ciudad de México        Centro    36      Masculino   \n",
       "2      Aguascalientes    Aguascalientes  Centro-Norte    39       Femenino   \n",
       "3            Veracruz          Veracruz         Golfo    35      Masculino   \n",
       "4    Ciudad de México  Ciudad de México        Centro    50      Masculino   \n",
       "5           Chihuahua         Chihuahua      Noroeste    45      Masculino   \n",
       "6    Ciudad de México  Ciudad de México        Centro    35       Femenino   \n",
       "7          Monterrey         Nuevo León       Noreste    43       Femenino   \n",
       "8  Puebla de Zaragoza            Puebla    Centro-Sur    35      Masculino   \n",
       "9    Oaxaca de Juárez            Oaxaca           Sur    32       Femenino   \n",
       "\n",
       "  cashback  nota zoop_pay  facturacion  \n",
       "0       Sí    10       No     18544.86  \n",
       "1       Sí     8       Sí       115.90  \n",
       "2       No     7       No       151.58  \n",
       "3       Sí     9       Sí       444.95  \n",
       "4       No     9       No       660.00  \n",
       "5       No    10       No     30463.87  \n",
       "6       No    10       No       424.50  \n",
       "7       No     8       No      3604.54  \n",
       "8       No    10       No       398.48  \n",
       "9       Sí     9       No        72.98  "
      ]
     },
     "execution_count": 73,
     "metadata": {},
     "output_type": "execute_result"
    }
   ],
   "source": [
    "df.head(10)"
   ]
  },
  {
   "cell_type": "markdown",
   "id": "4c0182e5",
   "metadata": {},
   "source": [
    "## **Desafío 1**"
   ]
  },
  {
   "cell_type": "markdown",
   "id": "9a405e0d",
   "metadata": {},
   "source": [
    "Zoop está en proceso de lanzamiento de su billetera digital, que brindará acceso a una serie de beneficios para sus clientes, y le gustaría saber cuál es el porcentaje de personas que ya están pre-registradas para este producto. El e-commerce busca comprender este número para definir la necesidad de promoción y esfuerzo para atraer más clientes a esta funcionalidad.\n",
    "\n",
    "Construye y ejecuta un prompt en ChatGPT para generar, a partir de nuestra base de datos, un visual que presente la proporción de personas pre-registradas en Zoop Pay."
   ]
  },
  {
   "cell_type": "markdown",
   "id": "3b3a0bb4",
   "metadata": {},
   "source": [
    "> #### <strong><font color=\"7b71ff\" size =6>Prompt:</font></strong>\n",
    "\n",
    "Me puedes ayudar a crear un grafico, te dejo la tarea de escoger el tipo de graficos.\n",
    "El primer grafico es sobre contabilizar \"Sí\" y \"No\" para compararlos, obten la informacion de la columna df[\"zoop_pay\"].\n",
    "Puede ser en porcentajes?"
   ]
  },
  {
   "cell_type": "markdown",
   "id": "2149e906",
   "metadata": {},
   "source": [
    "\n",
    "---\n",
    "\n",
    "¡Claro! Aquí tienes un ejemplo de cómo crear un gráfico para comparar los valores `\"Sí\"` y `\"No\"` en la columna `df[\"zoop_pay\"]`, usando porcentajes. Elegí un gráfico de barras porque es ideal para comparar proporciones entre dos categorías:"
   ]
  },
  {
   "cell_type": "code",
   "execution_count": 74,
   "id": "a49232ea",
   "metadata": {},
   "outputs": [],
   "source": [
    "# Asegúrate de que los valores estén en formato string (por si acaso)\n",
    "df[\"zoop_pay\"] = df[\"zoop_pay\"].astype(str)"
   ]
  },
  {
   "cell_type": "code",
   "execution_count": 75,
   "id": "15ac6611",
   "metadata": {},
   "outputs": [],
   "source": [
    "# Calcular los porcentajes\n",
    "porcentajes = df[\"zoop_pay\"].value_counts(normalize=True) * 100"
   ]
  },
  {
   "cell_type": "code",
   "execution_count": 82,
   "id": "5cb7fc74",
   "metadata": {},
   "outputs": [
    {
     "data": {
      "image/png": "[encoded data removed]",
      "text/plain": [
       "<Figure size 600x400 with 1 Axes>"
      ]
     },
     "metadata": {},
     "output_type": "display_data"
    }
   ],
   "source": [
    "porcentajes_df = porcentajes.reset_index()\n",
    "porcentajes_df.columns = ['zoop_pay', 'porcentaje']\n",
    "\n",
    "# Crear gráfico con hue y legend=False\n",
    "plt.figure(figsize=(6, 4))\n",
    "sns.barplot(data=porcentajes_df, x='zoop_pay', y='porcentaje', hue='zoop_pay', palette=\"Set2\", legend=False)\n",
    "\n",
    "# Añadir etiquetas encima de cada barra\n",
    "for i, val in enumerate(porcentajes_df[\"porcentaje\"]):\n",
    "    plt.text(i, val + 1, f'{val:.1f}%', ha='center')\n",
    "\n",
    "# Personalizar\n",
    "plt.title(\"Porcentaje de participación en Zoop Pay\")\n",
    "plt.ylabel(\"Porcentaje\")\n",
    "plt.xlabel(\"¿Usa Zoop Pay?\")\n",
    "plt.ylim(0, 100)\n",
    "\n",
    "plt.tight_layout()\n",
    "plt.show()\n"
   ]
  },
  {
   "cell_type": "markdown",
   "id": "ddc0aaa5",
   "metadata": {},
   "source": [
    "Este gráfico te mostrará claramente qué proporción de personas usan Zoop Pay (`\"Sí\"`) versus las que no (`\"No\"`), expresado en porcentaje. ¿Quieres que lo convierta a otro tipo de gráfico (como pastel, por ejemplo) o seguimos con este estilo?"
   ]
  },
  {
   "cell_type": "markdown",
   "id": "e9cee370",
   "metadata": {},
   "source": [
    "## **Desafío 2:**"
   ]
  },
  {
   "cell_type": "markdown",
   "id": "0ee152fe",
   "metadata": {},
   "source": [
    "Zoop quiere analizar la distribución de las edades de los clientes por región con el fin de delinear una \"persona\" (perfil) de su clientela en diferentes localidades del país, y para ello, solicitó un visual que distribuya estos datos. Construye y ejecuta un prompt en ChatGPT para generar, a partir de nuestra base de datos, un visual que muestre la distribución de las edades de los clientes por región.\n",
    "\n",
    "Si necesitas ayuda, una opción de solución de la actividad estará disponible en la sección \"Opinión del instructor\"."
   ]
  },
  {
   "cell_type": "markdown",
   "id": "d3a02209",
   "metadata": {},
   "source": [
    "> #### <strong><font color=\"7b71ff\" size =6>Prompt:</font></strong>\n",
    "\n",
    "Puedes generar un grafico que muestre un filtro?\n",
    "El filtro seria mostrar la distribucion de las edades de los clientes por region.\n",
    "Las columnas a utilizar son: df[\"edad\"] y df[\"region\"]"
   ]
  },
  {
   "cell_type": "markdown",
   "id": "328b9927",
   "metadata": {},
   "source": [
    "\n",
    "---\n",
    "\n",
    "¡Perfecto! Para mostrar la **distribución de edades por región**, lo ideal es usar un **gráfico de violín (`violinplot`)** o un **boxplot (`boxplot`)**, ya que permiten comparar cómo se distribuye una variable numérica (como la edad) en distintas categorías (como la región).\n",
    "\n",
    "Aquí tienes ambos ejemplos. Puedes elegir el que prefieras."
   ]
  },
  {
   "cell_type": "markdown",
   "id": "ff0c6450",
   "metadata": {},
   "source": [
    "### ✅ Opción 1: `violinplot` – Más visual, muestra la forma de la distribución"
   ]
  },
  {
   "cell_type": "code",
   "execution_count": 83,
   "id": "71c8a9e0",
   "metadata": {},
   "outputs": [
    {
     "name": "stderr",
     "output_type": "stream",
     "text": [
      "C:\\Users\\Luis\\AppData\\Local\\Temp\\ipykernel_10516\\3267378942.py:2: FutureWarning: \n",
      "\n",
      "Passing `palette` without assigning `hue` is deprecated and will be removed in v0.14.0. Assign the `x` variable to `hue` and set `legend=False` for the same effect.\n",
      "\n",
      "  sns.violinplot(data=df, x=\"region\", y=\"edad\", palette=\"Set2\")\n"
     ]
    },
    {
     "data": {
      "image/png": "[encoded data removed]",
      "text/plain": [
       "<Figure size 1000x600 with 1 Axes>"
      ]
     },
     "metadata": {},
     "output_type": "display_data"
    }
   ],
   "source": [
    "plt.figure(figsize=(10, 6))\n",
    "sns.violinplot(data=df, x=\"region\", y=\"edad\", palette=\"Set2\")\n",
    "\n",
    "plt.title(\"Distribución de edades por región\")\n",
    "plt.xlabel(\"Región\")\n",
    "plt.ylabel(\"Edad\")\n",
    "plt.xticks(rotation=45)\n",
    "plt.tight_layout()\n",
    "plt.show()"
   ]
  },
  {
   "cell_type": "markdown",
   "id": "e01aed55",
   "metadata": {},
   "source": [
    "### ✅ Opción 2: `boxplot` – Muestra mediana, cuartiles y valores atípicos"
   ]
  },
  {
   "cell_type": "code",
   "execution_count": 84,
   "id": "f13f8caa",
   "metadata": {},
   "outputs": [
    {
     "name": "stderr",
     "output_type": "stream",
     "text": [
      "C:\\Users\\Luis\\AppData\\Local\\Temp\\ipykernel_10516\\3184910430.py:2: FutureWarning: \n",
      "\n",
      "Passing `palette` without assigning `hue` is deprecated and will be removed in v0.14.0. Assign the `x` variable to `hue` and set `legend=False` for the same effect.\n",
      "\n",
      "  sns.boxplot(data=df, x=\"region\", y=\"edad\", palette=\"Set2\")\n"
     ]
    },
    {
     "data": {
      "image/png": "[encoded data removed]",
      "text/plain": [
       "<Figure size 1000x600 with 1 Axes>"
      ]
     },
     "metadata": {},
     "output_type": "display_data"
    }
   ],
   "source": [
    "plt.figure(figsize=(10, 6))\n",
    "sns.boxplot(data=df, x=\"region\", y=\"edad\", palette=\"Set2\")\n",
    "\n",
    "plt.title(\"Distribución de edades por región\")\n",
    "plt.xlabel(\"Región\")\n",
    "plt.ylabel(\"Edad\")\n",
    "plt.xticks(rotation=45)\n",
    "plt.tight_layout()\n",
    "plt.show()"
   ]
  },
  {
   "cell_type": "markdown",
   "id": "39a3fc62",
   "metadata": {},
   "source": [
    "Ambas opciones usan las columnas `df[\"edad\"]` y `df[\"region\"]`. Si tienes muchas regiones, rotar las etiquetas (`rotation=45`) ayuda a que se vean bien.\n",
    "\n",
    "¿Te gustaría agregar también un filtro interactivo o mostrar solo ciertas regiones específicas?"
   ]
  },
  {
   "cell_type": "markdown",
   "id": "d4a3c08b",
   "metadata": {},
   "source": [
    "# BLoque 4 - Tecnicas de storytelling"
   ]
  },
  {
   "cell_type": "markdown",
   "id": "73f13ad5",
   "metadata": {},
   "source": [
    "Zoop ha seleccionado 2 de los visuales creados para formar parte del informe con la narración de datos de la empresa. Se ha definido que se utilizarán los visuales con el facturamiento por región en 2023 y el de personas pre-registradas en Zoop Pay. Refinaremos ambos visuales siguiendo las instrucciones a continuación y la paleta de colores de la e-commerce, alterándolos con la ayuda de ChatGPT:"
   ]
  },
  {
   "cell_type": "markdown",
   "id": "934a6f2d",
   "metadata": {},
   "source": [
    "## **Desafío 1:**"
   ]
  },
  {
   "cell_type": "code",
   "execution_count": 85,
   "id": "bb243b80",
   "metadata": {},
   "outputs": [],
   "source": [
    "ROJO_1,\tROJO_2,\tROJO_3 = \"#e23155\",\t\"#cc2c4e\", \"#b32742\"\n",
    "AZUL_1,\tAZUL_2,\tAZUL_3 = \"#203f75\",\t\"#1c3867\", \"#19325b\"\n",
    "BLANCO,GRIS_1, GRIS_2, GRIS_3, GRIS_4,\tGRIS_5 = \"#ffffff\", \"#ebebeb\",\t\"#d9d9d9\", \"#cccccc\", \"#555655\", \"#231f20\"\n",
    "AQUA_1,\tAQUA_2,\tAQUA_3 = \"#addcd4\",\t\"#9fccc5\", \"#96bfb9\""
   ]
  },
  {
   "cell_type": "markdown",
   "id": "43255245",
   "metadata": {},
   "source": [
    "Construye y ejecuta un prompt en ChatGPT para refinar el visual que presenta el facturamiento de las ventas por región. Las instrucciones para el refinamiento son las siguientes:\n",
    "\n",
    "* Fondo de la figura y del área del gráfico en el color GRIS_1\n",
    "* Color de las columnas en AQUA_1 (si deseas destacar solo una, puedes recurrir a AQUA_3, por ejemplo)\n",
    "* Tamaño de la figura de (16,9)\n",
    "* Cambia el título de la figura a un tamaño de 18 y color GRIS_5, ajusta las etiquetas y rótulos del eje x e y, cuando existan, a un tamaño 12 y color AZUL_1\n",
    "* Elimina el máximo de bordes posible y ajusta los datos para que se presenten en las barras en orden de millones, con color AZUL_1 y tamaño 12\n",
    "\n",
    "**Observación 1**: Todas las variables que representan los colores en las instrucciones están en una celda en la pestaña Paleta de Colores dentro del notebook Desafíos de la Clase 04.\n",
    "\n",
    "**Observación 2**: Es probable que al ejecutar los prompts, ChatGPT sugiera colores para las variables y modificaciones en los códigos que llaman al DataFrame deseado. Presta mucha atención para eliminar la nueva definición de colores y ajustar el DataFrame según lo que has hecho en actividades anteriores."
   ]
  },
  {
   "cell_type": "markdown",
   "id": "12211c1b",
   "metadata": {},
   "source": [
    "\n",
    "---\n",
    "\n",
    "¡Perfecto! Con gusto aplicaré esas modificaciones al gráfico. Suponiendo que ya tienes definidas las variables de color como `GRIS_1`, `GRIS_5`, `AZUL_1`, `AQUA_1`, `AQUA_3`, y el DataFrame `facturacion_region`, aquí tienes el código actualizado según tus instrucciones:"
   ]
  },
  {
   "cell_type": "code",
   "execution_count": 86,
   "id": "4a87cd24",
   "metadata": {},
   "outputs": [
    {
     "name": "stderr",
     "output_type": "stream",
     "text": [
      "C:\\Users\\Luis\\AppData\\Local\\Temp\\ipykernel_10516\\2354540408.py:6: FutureWarning: \n",
      "\n",
      "Passing `palette` without assigning `hue` is deprecated and will be removed in v0.14.0. Assign the `x` variable to `hue` and set `legend=False` for the same effect.\n",
      "\n",
      "  ax = sns.barplot(\n"
     ]
    },
    {
     "data": {
      "image/png": "[encoded data removed]",
      "text/plain": [
       "<Figure size 1600x900 with 1 Axes>"
      ]
     },
     "metadata": {},
     "output_type": "display_data"
    }
   ],
   "source": [
    "# Estilo general y tamaño de la figura\n",
    "sns.set(style=\"whitegrid\")\n",
    "plt.figure(figsize=(16, 9))\n",
    "\n",
    "# Crear gráfico con color AQUA_1\n",
    "ax = sns.barplot(\n",
    "    data=facturacion_region,\n",
    "    x='region',\n",
    "    y='facturacion',\n",
    "    palette=[AQUA_1 if i != 0 else AQUA_3 for i in range(len(facturacion_region))],  # resalta la primera barra si deseas\n",
    "    legend=False\n",
    ")\n",
    "\n",
    "# Fondo del gráfico y de la figura\n",
    "ax.set_facecolor(GRIS_1)\n",
    "plt.gcf().patch.set_facecolor(GRIS_1)\n",
    "\n",
    "# Etiquetas encima de cada barra, formato en millones\n",
    "for container in ax.containers:\n",
    "    labels = [f'{v/1e6:.2f}M' for v in container.datavalues]\n",
    "    ax.bar_label(container, labels=labels, label_type='edge', padding=3, fontsize=12, color=AZUL_1)\n",
    "\n",
    "# Título y etiquetas de ejes\n",
    "plt.title('Facturación total por región', fontsize=18, color=GRIS_5)\n",
    "plt.xlabel('Región', fontsize=12, color=AZUL_1)\n",
    "plt.ylabel('Facturación (en millones)', fontsize=12, color=AZUL_1)\n",
    "plt.xticks(rotation=45, fontsize=12, color=AZUL_1)\n",
    "plt.yticks(fontsize=12, color=AZUL_1)\n",
    "\n",
    "# Remover bordes innecesarios\n",
    "for spine in ax.spines.values():\n",
    "    spine.set_visible(False)\n",
    "\n",
    "plt.tight_layout()\n",
    "plt.show()"
   ]
  },
  {
   "cell_type": "markdown",
   "id": "545bafd4",
   "metadata": {},
   "source": [
    "### 🔍 A tener en cuenta:"
   ]
  },
  {
   "cell_type": "markdown",
   "id": "63139906",
   "metadata": {},
   "source": [
    "* Si quieres destacar otra barra diferente (no la primera), ajusta esta parte del `palette`:\n",
    "\n",
    "  ```python\n",
    "  palette=[AQUA_3 if i == N else AQUA_1 for i in range(len(facturacion_region))]\n",
    "  ```\n",
    "\n",
    "  reemplazando `N` con el índice deseado.\n",
    "* El formato en millones se hace con `v/1e6:.2f`.\n",
    "\n",
    "¿Te gustaría que añadiera alguna anotación o gráfico auxiliar también?\n"
   ]
  },
  {
   "cell_type": "markdown",
   "id": "39174389",
   "metadata": {},
   "source": [
    "## **Desafío 2:**"
   ]
  },
  {
   "cell_type": "markdown",
   "id": "0710cc04",
   "metadata": {},
   "source": [
    "Construye y ejecuta un prompt en ChatGPT para refinar el visual que presenta la proporción de personas pre-registradas en Zoop Pay. Las instrucciones para el refinamiento son las siguientes:\n",
    "\n",
    "* Fondo de la figura y del área del gráfico en el color GRIS_1.\n",
    "* Color de las porciones: AZUL_1 para \"Sí\" y GRIS_3 para \"No\".\n",
    "* Tamaño de la figura de (6,6).\n",
    "* Cambia el título de la figura a un tamaño de 18 y color GRIS_5.\n",
    "* Añade etiquetas en las porciones con tamaño 12 y los porcentajes también con tamaño 12 y en negrita. Los porcentajes deben estar en color BLANCO y las etiquetas de las porciones en el mismo color que las porciones.\n",
    "* Ajusta la rosca para que su ancho sea de 0.4 y los porcentajes de las porciones estén en la posición 0.8 en relación al centro.\n",
    "* Evita explosiones de porciones y efectos que dificulten el análisis del gráfico.\n",
    "\n",
    "Si necesitas ayuda, habrá una opción de solución disponible en la sección \"Opinión del instructor/a\"."
   ]
  },
  {
   "cell_type": "markdown",
   "id": "40c5b5d8",
   "metadata": {},
   "source": [
    "\n",
    "---\n",
    "\n",
    "Gracias por proporcionar el código y las instrucciones detalladas. Como mencionaste antes, los colores como `GRIS_1`, `AZUL_1`, etc., ya están definidos en una celda anterior de tu notebook (probablemente como variables hex o RGB). Asumiendo que las variables de color están ya declaradas en tu entorno, aquí tienes el código modificado con todos los cambios solicitados:"
   ]
  },
  {
   "cell_type": "code",
   "execution_count": 87,
   "id": "703a4a6c",
   "metadata": {},
   "outputs": [
    {
     "data": {
      "image/png": "[encoded data removed]",
      "text/plain": [
       "<Figure size 600x600 with 1 Axes>"
      ]
     },
     "metadata": {},
     "output_type": "display_data"
    }
   ],
   "source": [
    "# Preparar datos\n",
    "porcentajes_df = porcentajes.reset_index()\n",
    "porcentajes_df.columns = ['zoop_pay', 'porcentaje']\n",
    "\n",
    "# Asignar colores a las categorías\n",
    "colores = [AZUL_1 if val == 'Sí' else GRIS_3 for val in porcentajes_df['zoop_pay']]\n",
    "\n",
    "# Crear gráfico de dona (pie chart con 'wedgeprops')\n",
    "fig, ax = plt.subplots(figsize=(6, 6), facecolor=GRIS_1)\n",
    "ax.set_facecolor(GRIS_1)\n",
    "\n",
    "# Gráfico de dona\n",
    "wedges, texts, autotexts = ax.pie(\n",
    "    porcentajes_df['porcentaje'],\n",
    "    labels=porcentajes_df['zoop_pay'],\n",
    "    colors=colores,\n",
    "    startangle=90,\n",
    "    counterclock=False,\n",
    "    labeldistance=1.05,\n",
    "    wedgeprops=dict(width=0.4),\n",
    "    autopct='%1.1f%%',\n",
    "    pctdistance=0.8,\n",
    "    textprops=dict(size=12, weight='bold', color='white')\n",
    ")\n",
    "\n",
    "# Estilo de etiquetas de las porciones (mismo color que la porción)\n",
    "for text, color in zip(texts, colores):\n",
    "    text.set_color(color)\n",
    "    text.set_fontsize(12)\n",
    "\n",
    "# Título personalizado\n",
    "ax.set_title(\"Porcentaje de participación en Zoop Pay\", fontsize=18, color=GRIS_5)\n",
    "\n",
    "plt.tight_layout()\n",
    "plt.show()"
   ]
  },
  {
   "cell_type": "markdown",
   "id": "87e2a334",
   "metadata": {},
   "source": [
    "### Resumen de cambios aplicados:"
   ]
  },
  {
   "cell_type": "markdown",
   "id": "e282b04a",
   "metadata": {},
   "source": [
    "✅ Fondo de figura y gráfico: `GRIS_1`\n",
    "\n",
    "✅ Colores de porciones: `\"Sí\"` = `AZUL_1`, `\"No\"` = `GRIS_3`\n",
    "\n",
    "✅ Tamaño de figura `(6, 6)`\n",
    "\n",
    "✅ Título con tamaño 18 y color `GRIS_5`\n",
    "\n",
    "✅ Etiquetas y porcentajes: tamaño 12, porcentajes en **blanco y negrita**, etiquetas con el color de la porción\n",
    "\n",
    "✅ Grosor de la dona: `0.4`\n",
    "\n",
    "✅ Posición de porcentajes: `0.8` desde el centro\n",
    "\n",
    "✅ Sin explosiones ni efectos distractores\n",
    "\n",
    "¿Te gustaría que también convierta esto en un gráfico de barras como en el ejemplo anterior o quieres seguir usando tipo dona?\n"
   ]
  }
 ],
 "metadata": {
  "kernelspec": {
   "display_name": "Python 3",
   "language": "python",
   "name": "python3"
  },
  "language_info": {
   "codemirror_mode": {
    "name": "ipython",
    "version": 3
   },
   "file_extension": ".py",
   "mimetype": "text/x-python",
   "name": "python",
   "nbconvert_exporter": "python",
   "pygments_lexer": "ipython3",
   "version": "3.11.9"
  }
 },
 "nbformat": 4,
 "nbformat_minor": 5
}
