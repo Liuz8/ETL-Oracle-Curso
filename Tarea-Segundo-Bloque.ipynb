{
 "cells": [
  {
   "cell_type": "markdown",
   "id": "bde3d238",
   "metadata": {},
   "source": [
    "Ha llegado el momento de poner a prueba los conocimientos adquiridos durante la lección. Continuando con el proyecto de las naranjas/toronjas, ahora debes seleccionar parte de los datos. Las columnas que evaluaremos son el diámetro y el peso. Crea arrays específicos para almacenar el diámetro y el peso de la naranja y la toronja. El diámetro está en la columna cero y el peso en la columna uno. Los datos de las naranjas van hasta la fila 4999 y los datos de las toronjas comienzan en la fila 5000 del archivo.\n",
    "\n",
    "Después de seleccionar los datos, importa la biblioteca matplotlib y crea un gráfico para el peso en función del diámetro tanto para las naranjas como para las toronjas."
   ]
  },
  {
   "cell_type": "code",
   "execution_count": 1,
   "id": "d6956d16",
   "metadata": {},
   "outputs": [],
   "source": [
    "import numpy as np"
   ]
  },
  {
   "cell_type": "code",
   "execution_count": 2,
   "id": "1c206158",
   "metadata": {},
   "outputs": [],
   "source": [
    "url = 'citrus.csv'"
   ]
  },
  {
   "cell_type": "code",
   "execution_count": 7,
   "id": "b33f2d40",
   "metadata": {},
   "outputs": [
    {
     "data": {
      "text/plain": [
       "array([[  2.96,  86.76, 172.  ,  85.  ,   2.  ],\n",
       "       [  3.91,  88.05, 166.  ,  78.  ,   3.  ],\n",
       "       [  4.42,  95.17, 156.  ,  81.  ,   2.  ],\n",
       "       ...,\n",
       "       [ 15.59, 256.5 , 168.  ,  82.  ,  20.  ],\n",
       "       [ 15.92, 260.14, 142.  ,  72.  ,  11.  ],\n",
       "       [ 16.45, 261.51, 152.  ,  74.  ,   2.  ]], shape=(10000, 5))"
      ]
     },
     "execution_count": 7,
     "metadata": {},
     "output_type": "execute_result"
    }
   ],
   "source": [
    "datos = np.loadtxt(url, delimiter=',', dtype=float, skiprows=1, usecols=range(1,6))\n",
    "datos"
   ]
  },
  {
   "cell_type": "code",
   "execution_count": 10,
   "id": "f84989de",
   "metadata": {},
   "outputs": [
    {
     "data": {
      "text/plain": [
       "array([ 2.96,  3.91,  4.42, ..., 15.59, 15.92, 16.45], shape=(10000,))"
      ]
     },
     "execution_count": 10,
     "metadata": {},
     "output_type": "execute_result"
    }
   ],
   "source": [
    "diametro = datos[:,0]\n",
    "diametro"
   ]
  },
  {
   "cell_type": "code",
   "execution_count": 12,
   "id": "174a4e79",
   "metadata": {},
   "outputs": [
    {
     "data": {
      "text/plain": [
       "array([ 2.96,  3.91,  4.42, ..., 12.55, 12.75, 12.87], shape=(5000,))"
      ]
     },
     "execution_count": 12,
     "metadata": {},
     "output_type": "execute_result"
    }
   ],
   "source": [
    "diametro_naranjas = diametro[:5000]\n",
    "diametro_naranjas"
   ]
  },
  {
   "cell_type": "code",
   "execution_count": 13,
   "id": "ba997a54",
   "metadata": {},
   "outputs": [
    {
     "data": {
      "text/plain": [
       "array([ 7.63,  7.69,  7.72, ..., 15.59, 15.92, 16.45], shape=(5000,))"
      ]
     },
     "execution_count": 13,
     "metadata": {},
     "output_type": "execute_result"
    }
   ],
   "source": [
    "diametro_toronjas = diametro[5000:]\n",
    "diametro_toronjas"
   ]
  },
  {
   "cell_type": "code",
   "execution_count": 14,
   "id": "1a2a35e6",
   "metadata": {},
   "outputs": [
    {
     "data": {
      "text/plain": [
       "array([ 86.76,  88.05,  95.17, ..., 256.5 , 260.14, 261.51],\n",
       "      shape=(10000,))"
      ]
     },
     "execution_count": 14,
     "metadata": {},
     "output_type": "execute_result"
    }
   ],
   "source": [
    "peso = datos[:,1]\n",
    "peso"
   ]
  },
  {
   "cell_type": "code",
   "execution_count": 16,
   "id": "7c0cf27a",
   "metadata": {},
   "outputs": [
    {
     "data": {
      "text/plain": [
       "array([ 86.76,  88.05,  95.17, ..., 218.07, 230.13, 231.09], shape=(5000,))"
      ]
     },
     "execution_count": 16,
     "metadata": {},
     "output_type": "execute_result"
    }
   ],
   "source": [
    "peso_naranjas = peso[:5000]\n",
    "peso_naranjas"
   ]
  },
  {
   "cell_type": "code",
   "execution_count": 25,
   "id": "71e75e23",
   "metadata": {},
   "outputs": [
    {
     "data": {
      "text/plain": [
       "array([126.79, 133.98, 135.56, ..., 256.5 , 260.14, 261.51], shape=(5000,))"
      ]
     },
     "execution_count": 25,
     "metadata": {},
     "output_type": "execute_result"
    }
   ],
   "source": [
    "peso_toronjas = peso[5000:]\n",
    "peso_toronjas"
   ]
  },
  {
   "cell_type": "code",
   "execution_count": 1,
   "id": "fdf9d6be",
   "metadata": {},
   "outputs": [
    {
     "ename": "NameError",
     "evalue": "name 'diametro_naranjas' is not defined",
     "output_type": "error",
     "traceback": [
      "\u001b[31m---------------------------------------------------------------------------\u001b[39m",
      "\u001b[31mNameError\u001b[39m                                 Traceback (most recent call last)",
      "\u001b[36mCell\u001b[39m\u001b[36m \u001b[39m\u001b[32mIn[1]\u001b[39m\u001b[32m, line 3\u001b[39m\n\u001b[32m      1\u001b[39m \u001b[38;5;28;01mimport\u001b[39;00m\u001b[38;5;250m \u001b[39m\u001b[34;01mmatplotlib\u001b[39;00m\u001b[34;01m.\u001b[39;00m\u001b[34;01mpyplot\u001b[39;00m\u001b[38;5;250m \u001b[39m\u001b[38;5;28;01mas\u001b[39;00m\u001b[38;5;250m \u001b[39m\u001b[34;01mplt\u001b[39;00m\n\u001b[32m----> \u001b[39m\u001b[32m3\u001b[39m plt.plot(\u001b[43mdiametro_naranjas\u001b[49m, peso_naranjas)\n\u001b[32m      4\u001b[39m plt.plot(diametro_toronjas, peso_toronjas)\n\u001b[32m      6\u001b[39m plt.legend([\u001b[33m'\u001b[39m\u001b[33mnaranjas\u001b[39m\u001b[33m'\u001b[39m, \u001b[33m'\u001b[39m\u001b[33mtoronjas\u001b[39m\u001b[33m'\u001b[39m])\n",
      "\u001b[31mNameError\u001b[39m: name 'diametro_naranjas' is not defined"
     ]
    }
   ],
   "source": [
    "import matplotlib.pyplot as plt\n",
    "\n",
    "plt.plot(diametro_naranjas, peso_naranjas)\n",
    "plt.plot(diametro_toronjas, peso_toronjas)\n",
    "\n",
    "plt.legend(['naranjas', 'toronjas'])"
   ]
  }
 ],
 "metadata": {
  "kernelspec": {
   "display_name": "Python 3",
   "language": "python",
   "name": "python3"
  },
  "language_info": {
   "codemirror_mode": {
    "name": "ipython",
    "version": 3
   },
   "file_extension": ".py",
   "mimetype": "text/x-python",
   "name": "python",
   "nbconvert_exporter": "python",
   "pygments_lexer": "ipython3",
   "version": "3.11.9"
  }
 },
 "nbformat": 4,
 "nbformat_minor": 5
}
